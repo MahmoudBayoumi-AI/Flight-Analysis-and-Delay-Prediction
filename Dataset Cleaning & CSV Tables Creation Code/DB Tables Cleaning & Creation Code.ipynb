{
 "cells": [
  {
   "cell_type": "code",
   "execution_count": 3,
   "metadata": {},
   "outputs": [],
   "source": [
    "import pandas as pd\n",
    "import numpy as np\n",
    "import matplotlib.pyplot as plt\n",
    "import seaborn as sns\n",
    "import plotly.express as px"
   ]
  },
  {
   "cell_type": "code",
   "execution_count": 4,
   "metadata": {},
   "outputs": [],
   "source": [
    "df=pd.read_csv(r\"C:\\Users\\DELL\\Downloads\\Flight Delay Project\\Cleaned & Uncleaned Datasets\\Cleaned_Flight_delay.csv\")"
   ]
  },
  {
   "cell_type": "code",
   "execution_count": 5,
   "metadata": {},
   "outputs": [
    {
     "data": {
      "text/html": [
       "<div>\n",
       "<style scoped>\n",
       "    .dataframe tbody tr th:only-of-type {\n",
       "        vertical-align: middle;\n",
       "    }\n",
       "\n",
       "    .dataframe tbody tr th {\n",
       "        vertical-align: top;\n",
       "    }\n",
       "\n",
       "    .dataframe thead th {\n",
       "        text-align: right;\n",
       "    }\n",
       "</style>\n",
       "<table border=\"1\" class=\"dataframe\">\n",
       "  <thead>\n",
       "    <tr style=\"text-align: right;\">\n",
       "      <th></th>\n",
       "      <th>FlightID</th>\n",
       "      <th>DayOfWeek</th>\n",
       "      <th>Date</th>\n",
       "      <th>ACT_DepTime</th>\n",
       "      <th>ACT_ArrTime</th>\n",
       "      <th>Scheduled_ArrTime</th>\n",
       "      <th>UniqueCarrier</th>\n",
       "      <th>Airline</th>\n",
       "      <th>FlightNum</th>\n",
       "      <th>TailNum</th>\n",
       "      <th>...</th>\n",
       "      <th>TaxiIn</th>\n",
       "      <th>TaxiOut</th>\n",
       "      <th>Cancelled</th>\n",
       "      <th>CancellationCode</th>\n",
       "      <th>Diverted</th>\n",
       "      <th>CarrierDelay</th>\n",
       "      <th>WeatherDelay</th>\n",
       "      <th>NASDelay</th>\n",
       "      <th>SecurityDelay</th>\n",
       "      <th>LateAircraftDelay</th>\n",
       "    </tr>\n",
       "  </thead>\n",
       "  <tbody>\n",
       "    <tr>\n",
       "      <th>0</th>\n",
       "      <td>0</td>\n",
       "      <td>4</td>\n",
       "      <td>2019-01-03</td>\n",
       "      <td>18:29:00</td>\n",
       "      <td>19:59:00</td>\n",
       "      <td>19:25:00</td>\n",
       "      <td>WN</td>\n",
       "      <td>Southwest Airlines Co.</td>\n",
       "      <td>3920</td>\n",
       "      <td>N464WN</td>\n",
       "      <td>...</td>\n",
       "      <td>3</td>\n",
       "      <td>10</td>\n",
       "      <td>0</td>\n",
       "      <td>N</td>\n",
       "      <td>0</td>\n",
       "      <td>2</td>\n",
       "      <td>0</td>\n",
       "      <td>0</td>\n",
       "      <td>0</td>\n",
       "      <td>32</td>\n",
       "    </tr>\n",
       "    <tr>\n",
       "      <th>1</th>\n",
       "      <td>1</td>\n",
       "      <td>4</td>\n",
       "      <td>2019-01-03</td>\n",
       "      <td>19:37:00</td>\n",
       "      <td>20:37:00</td>\n",
       "      <td>19:40:00</td>\n",
       "      <td>WN</td>\n",
       "      <td>Southwest Airlines Co.</td>\n",
       "      <td>509</td>\n",
       "      <td>N763SW</td>\n",
       "      <td>...</td>\n",
       "      <td>3</td>\n",
       "      <td>7</td>\n",
       "      <td>0</td>\n",
       "      <td>N</td>\n",
       "      <td>0</td>\n",
       "      <td>10</td>\n",
       "      <td>0</td>\n",
       "      <td>0</td>\n",
       "      <td>0</td>\n",
       "      <td>47</td>\n",
       "    </tr>\n",
       "    <tr>\n",
       "      <th>2</th>\n",
       "      <td>2</td>\n",
       "      <td>4</td>\n",
       "      <td>2019-01-03</td>\n",
       "      <td>16:44:00</td>\n",
       "      <td>18:45:00</td>\n",
       "      <td>17:25:00</td>\n",
       "      <td>WN</td>\n",
       "      <td>Southwest Airlines Co.</td>\n",
       "      <td>1333</td>\n",
       "      <td>N334SW</td>\n",
       "      <td>...</td>\n",
       "      <td>6</td>\n",
       "      <td>8</td>\n",
       "      <td>0</td>\n",
       "      <td>N</td>\n",
       "      <td>0</td>\n",
       "      <td>8</td>\n",
       "      <td>0</td>\n",
       "      <td>0</td>\n",
       "      <td>0</td>\n",
       "      <td>72</td>\n",
       "    </tr>\n",
       "    <tr>\n",
       "      <th>3</th>\n",
       "      <td>3</td>\n",
       "      <td>4</td>\n",
       "      <td>2019-01-03</td>\n",
       "      <td>14:52:00</td>\n",
       "      <td>16:40:00</td>\n",
       "      <td>16:25:00</td>\n",
       "      <td>WN</td>\n",
       "      <td>Southwest Airlines Co.</td>\n",
       "      <td>675</td>\n",
       "      <td>N286WN</td>\n",
       "      <td>...</td>\n",
       "      <td>7</td>\n",
       "      <td>8</td>\n",
       "      <td>0</td>\n",
       "      <td>N</td>\n",
       "      <td>0</td>\n",
       "      <td>3</td>\n",
       "      <td>0</td>\n",
       "      <td>0</td>\n",
       "      <td>0</td>\n",
       "      <td>12</td>\n",
       "    </tr>\n",
       "    <tr>\n",
       "      <th>4</th>\n",
       "      <td>4</td>\n",
       "      <td>4</td>\n",
       "      <td>2019-01-03</td>\n",
       "      <td>13:23:00</td>\n",
       "      <td>15:26:00</td>\n",
       "      <td>15:10:00</td>\n",
       "      <td>WN</td>\n",
       "      <td>Southwest Airlines Co.</td>\n",
       "      <td>4</td>\n",
       "      <td>N674AA</td>\n",
       "      <td>...</td>\n",
       "      <td>4</td>\n",
       "      <td>9</td>\n",
       "      <td>0</td>\n",
       "      <td>N</td>\n",
       "      <td>0</td>\n",
       "      <td>0</td>\n",
       "      <td>0</td>\n",
       "      <td>0</td>\n",
       "      <td>0</td>\n",
       "      <td>16</td>\n",
       "    </tr>\n",
       "  </tbody>\n",
       "</table>\n",
       "<p>5 rows × 30 columns</p>\n",
       "</div>"
      ],
      "text/plain": [
       "   FlightID  DayOfWeek        Date ACT_DepTime ACT_ArrTime Scheduled_ArrTime  \\\n",
       "0         0          4  2019-01-03    18:29:00    19:59:00          19:25:00   \n",
       "1         1          4  2019-01-03    19:37:00    20:37:00          19:40:00   \n",
       "2         2          4  2019-01-03    16:44:00    18:45:00          17:25:00   \n",
       "3         3          4  2019-01-03    14:52:00    16:40:00          16:25:00   \n",
       "4         4          4  2019-01-03    13:23:00    15:26:00          15:10:00   \n",
       "\n",
       "  UniqueCarrier                 Airline  FlightNum TailNum  ...  TaxiIn  \\\n",
       "0            WN  Southwest Airlines Co.       3920  N464WN  ...       3   \n",
       "1            WN  Southwest Airlines Co.        509  N763SW  ...       3   \n",
       "2            WN  Southwest Airlines Co.       1333  N334SW  ...       6   \n",
       "3            WN  Southwest Airlines Co.        675  N286WN  ...       7   \n",
       "4            WN  Southwest Airlines Co.          4  N674AA  ...       4   \n",
       "\n",
       "   TaxiOut  Cancelled  CancellationCode  Diverted CarrierDelay WeatherDelay  \\\n",
       "0       10          0                 N         0            2            0   \n",
       "1        7          0                 N         0           10            0   \n",
       "2        8          0                 N         0            8            0   \n",
       "3        8          0                 N         0            3            0   \n",
       "4        9          0                 N         0            0            0   \n",
       "\n",
       "  NASDelay SecurityDelay  LateAircraftDelay  \n",
       "0        0             0                 32  \n",
       "1        0             0                 47  \n",
       "2        0             0                 72  \n",
       "3        0             0                 12  \n",
       "4        0             0                 16  \n",
       "\n",
       "[5 rows x 30 columns]"
      ]
     },
     "execution_count": 5,
     "metadata": {},
     "output_type": "execute_result"
    }
   ],
   "source": [
    "df.head()"
   ]
  },
  {
   "cell_type": "code",
   "execution_count": 6,
   "metadata": {},
   "outputs": [
    {
     "data": {
      "text/plain": [
       "Index(['FlightID', 'DayOfWeek', 'Date', 'ACT_DepTime', 'ACT_ArrTime',\n",
       "       'Scheduled_ArrTime', 'UniqueCarrier', 'Airline', 'FlightNum', 'TailNum',\n",
       "       'ActualElapsedTime', 'CRSElapsedTime', 'AirTime', 'ArrDelay',\n",
       "       'DepDelay', 'Origin_IATA_Code', 'Dep_Airport', 'Dest_IATA_Code',\n",
       "       'Dest_Airport', 'Distance', 'TaxiIn', 'TaxiOut', 'Cancelled',\n",
       "       'CancellationCode', 'Diverted', 'CarrierDelay', 'WeatherDelay',\n",
       "       'NASDelay', 'SecurityDelay', 'LateAircraftDelay'],\n",
       "      dtype='object')"
      ]
     },
     "execution_count": 6,
     "metadata": {},
     "output_type": "execute_result"
    }
   ],
   "source": [
    "df.columns"
   ]
  },
  {
   "cell_type": "code",
   "execution_count": 7,
   "metadata": {},
   "outputs": [
    {
     "data": {
      "text/plain": [
       "np.int64(0)"
      ]
     },
     "execution_count": 7,
     "metadata": {},
     "output_type": "execute_result"
    }
   ],
   "source": [
    "df.duplicated().sum()"
   ]
  },
  {
   "cell_type": "code",
   "execution_count": 8,
   "metadata": {},
   "outputs": [
    {
     "data": {
      "text/plain": [
       "np.int64(484291)"
      ]
     },
     "execution_count": 8,
     "metadata": {},
     "output_type": "execute_result"
    }
   ],
   "source": [
    "df['Dep_Airport'].duplicated().sum()"
   ]
  },
  {
   "cell_type": "code",
   "execution_count": 9,
   "metadata": {},
   "outputs": [
    {
     "data": {
      "text/plain": [
       "np.int64(484277)"
      ]
     },
     "execution_count": 9,
     "metadata": {},
     "output_type": "execute_result"
    }
   ],
   "source": [
    "df['Dest_IATA_Code'].duplicated().sum()"
   ]
  },
  {
   "cell_type": "code",
   "execution_count": 10,
   "metadata": {},
   "outputs": [
    {
     "data": {
      "text/plain": [
       "np.int64(484277)"
      ]
     },
     "execution_count": 10,
     "metadata": {},
     "output_type": "execute_result"
    }
   ],
   "source": [
    "df['Origin_IATA_Code'].duplicated().sum()"
   ]
  },
  {
   "cell_type": "code",
   "execution_count": 11,
   "metadata": {},
   "outputs": [
    {
     "data": {
      "text/plain": [
       "Dep_Airport     259\n",
       "Dest_Airport    259\n",
       "dtype: int64"
      ]
     },
     "execution_count": 11,
     "metadata": {},
     "output_type": "execute_result"
    }
   ],
   "source": [
    "df[['Dep_Airport','Dest_Airport']].nunique()"
   ]
  },
  {
   "cell_type": "code",
   "execution_count": 12,
   "metadata": {},
   "outputs": [
    {
     "data": {
      "text/plain": [
       "Origin_IATA_Code    274\n",
       "Dest_IATA_Code      274\n",
       "dtype: int64"
      ]
     },
     "execution_count": 12,
     "metadata": {},
     "output_type": "execute_result"
    }
   ],
   "source": [
    "df[['Origin_IATA_Code','Dest_IATA_Code']].nunique()"
   ]
  },
  {
   "cell_type": "code",
   "execution_count": 13,
   "metadata": {},
   "outputs": [
    {
     "data": {
      "text/html": [
       "<div>\n",
       "<style scoped>\n",
       "    .dataframe tbody tr th:only-of-type {\n",
       "        vertical-align: middle;\n",
       "    }\n",
       "\n",
       "    .dataframe tbody tr th {\n",
       "        vertical-align: top;\n",
       "    }\n",
       "\n",
       "    .dataframe thead th {\n",
       "        text-align: right;\n",
       "    }\n",
       "</style>\n",
       "<table border=\"1\" class=\"dataframe\">\n",
       "  <thead>\n",
       "    <tr style=\"text-align: right;\">\n",
       "      <th></th>\n",
       "      <th>FlightID</th>\n",
       "      <th>DayOfWeek</th>\n",
       "      <th>Date</th>\n",
       "      <th>ACT_DepTime</th>\n",
       "      <th>ACT_ArrTime</th>\n",
       "      <th>Scheduled_ArrTime</th>\n",
       "      <th>UniqueCarrier</th>\n",
       "      <th>Airline</th>\n",
       "      <th>FlightNum</th>\n",
       "      <th>TailNum</th>\n",
       "      <th>...</th>\n",
       "      <th>TaxiIn</th>\n",
       "      <th>TaxiOut</th>\n",
       "      <th>Cancelled</th>\n",
       "      <th>CancellationCode</th>\n",
       "      <th>Diverted</th>\n",
       "      <th>CarrierDelay</th>\n",
       "      <th>WeatherDelay</th>\n",
       "      <th>NASDelay</th>\n",
       "      <th>SecurityDelay</th>\n",
       "      <th>LateAircraftDelay</th>\n",
       "    </tr>\n",
       "  </thead>\n",
       "  <tbody>\n",
       "    <tr>\n",
       "      <th>0</th>\n",
       "      <td>0</td>\n",
       "      <td>4</td>\n",
       "      <td>2019-01-03</td>\n",
       "      <td>18:29:00</td>\n",
       "      <td>19:59:00</td>\n",
       "      <td>19:25:00</td>\n",
       "      <td>WN</td>\n",
       "      <td>Southwest Airlines Co.</td>\n",
       "      <td>3920</td>\n",
       "      <td>N464WN</td>\n",
       "      <td>...</td>\n",
       "      <td>3</td>\n",
       "      <td>10</td>\n",
       "      <td>0</td>\n",
       "      <td>N</td>\n",
       "      <td>0</td>\n",
       "      <td>2</td>\n",
       "      <td>0</td>\n",
       "      <td>0</td>\n",
       "      <td>0</td>\n",
       "      <td>32</td>\n",
       "    </tr>\n",
       "    <tr>\n",
       "      <th>1</th>\n",
       "      <td>1</td>\n",
       "      <td>4</td>\n",
       "      <td>2019-01-03</td>\n",
       "      <td>19:37:00</td>\n",
       "      <td>20:37:00</td>\n",
       "      <td>19:40:00</td>\n",
       "      <td>WN</td>\n",
       "      <td>Southwest Airlines Co.</td>\n",
       "      <td>509</td>\n",
       "      <td>N763SW</td>\n",
       "      <td>...</td>\n",
       "      <td>3</td>\n",
       "      <td>7</td>\n",
       "      <td>0</td>\n",
       "      <td>N</td>\n",
       "      <td>0</td>\n",
       "      <td>10</td>\n",
       "      <td>0</td>\n",
       "      <td>0</td>\n",
       "      <td>0</td>\n",
       "      <td>47</td>\n",
       "    </tr>\n",
       "    <tr>\n",
       "      <th>2</th>\n",
       "      <td>2</td>\n",
       "      <td>4</td>\n",
       "      <td>2019-01-03</td>\n",
       "      <td>16:44:00</td>\n",
       "      <td>18:45:00</td>\n",
       "      <td>17:25:00</td>\n",
       "      <td>WN</td>\n",
       "      <td>Southwest Airlines Co.</td>\n",
       "      <td>1333</td>\n",
       "      <td>N334SW</td>\n",
       "      <td>...</td>\n",
       "      <td>6</td>\n",
       "      <td>8</td>\n",
       "      <td>0</td>\n",
       "      <td>N</td>\n",
       "      <td>0</td>\n",
       "      <td>8</td>\n",
       "      <td>0</td>\n",
       "      <td>0</td>\n",
       "      <td>0</td>\n",
       "      <td>72</td>\n",
       "    </tr>\n",
       "    <tr>\n",
       "      <th>3</th>\n",
       "      <td>3</td>\n",
       "      <td>4</td>\n",
       "      <td>2019-01-03</td>\n",
       "      <td>14:52:00</td>\n",
       "      <td>16:40:00</td>\n",
       "      <td>16:25:00</td>\n",
       "      <td>WN</td>\n",
       "      <td>Southwest Airlines Co.</td>\n",
       "      <td>675</td>\n",
       "      <td>N286WN</td>\n",
       "      <td>...</td>\n",
       "      <td>7</td>\n",
       "      <td>8</td>\n",
       "      <td>0</td>\n",
       "      <td>N</td>\n",
       "      <td>0</td>\n",
       "      <td>3</td>\n",
       "      <td>0</td>\n",
       "      <td>0</td>\n",
       "      <td>0</td>\n",
       "      <td>12</td>\n",
       "    </tr>\n",
       "    <tr>\n",
       "      <th>4</th>\n",
       "      <td>4</td>\n",
       "      <td>4</td>\n",
       "      <td>2019-01-03</td>\n",
       "      <td>13:23:00</td>\n",
       "      <td>15:26:00</td>\n",
       "      <td>15:10:00</td>\n",
       "      <td>WN</td>\n",
       "      <td>Southwest Airlines Co.</td>\n",
       "      <td>4</td>\n",
       "      <td>N674AA</td>\n",
       "      <td>...</td>\n",
       "      <td>4</td>\n",
       "      <td>9</td>\n",
       "      <td>0</td>\n",
       "      <td>N</td>\n",
       "      <td>0</td>\n",
       "      <td>0</td>\n",
       "      <td>0</td>\n",
       "      <td>0</td>\n",
       "      <td>0</td>\n",
       "      <td>16</td>\n",
       "    </tr>\n",
       "  </tbody>\n",
       "</table>\n",
       "<p>5 rows × 30 columns</p>\n",
       "</div>"
      ],
      "text/plain": [
       "   FlightID  DayOfWeek        Date ACT_DepTime ACT_ArrTime Scheduled_ArrTime  \\\n",
       "0         0          4  2019-01-03    18:29:00    19:59:00          19:25:00   \n",
       "1         1          4  2019-01-03    19:37:00    20:37:00          19:40:00   \n",
       "2         2          4  2019-01-03    16:44:00    18:45:00          17:25:00   \n",
       "3         3          4  2019-01-03    14:52:00    16:40:00          16:25:00   \n",
       "4         4          4  2019-01-03    13:23:00    15:26:00          15:10:00   \n",
       "\n",
       "  UniqueCarrier                 Airline  FlightNum TailNum  ...  TaxiIn  \\\n",
       "0            WN  Southwest Airlines Co.       3920  N464WN  ...       3   \n",
       "1            WN  Southwest Airlines Co.        509  N763SW  ...       3   \n",
       "2            WN  Southwest Airlines Co.       1333  N334SW  ...       6   \n",
       "3            WN  Southwest Airlines Co.        675  N286WN  ...       7   \n",
       "4            WN  Southwest Airlines Co.          4  N674AA  ...       4   \n",
       "\n",
       "   TaxiOut  Cancelled  CancellationCode  Diverted CarrierDelay WeatherDelay  \\\n",
       "0       10          0                 N         0            2            0   \n",
       "1        7          0                 N         0           10            0   \n",
       "2        8          0                 N         0            8            0   \n",
       "3        8          0                 N         0            3            0   \n",
       "4        9          0                 N         0            0            0   \n",
       "\n",
       "  NASDelay SecurityDelay  LateAircraftDelay  \n",
       "0        0             0                 32  \n",
       "1        0             0                 47  \n",
       "2        0             0                 72  \n",
       "3        0             0                 12  \n",
       "4        0             0                 16  \n",
       "\n",
       "[5 rows x 30 columns]"
      ]
     },
     "execution_count": 13,
     "metadata": {},
     "output_type": "execute_result"
    }
   ],
   "source": [
    "df.head()"
   ]
  },
  {
   "cell_type": "markdown",
   "metadata": {},
   "source": [
    "# Airports Table"
   ]
  },
  {
   "cell_type": "code",
   "execution_count": 14,
   "metadata": {},
   "outputs": [],
   "source": [
    "Airports_data_df=pd.read_csv(r\"C:\\Users\\DELL\\Downloads\\Flight Delay Project\\Cleaned & Uncleaned Datasets\\airports-extended.csv\")"
   ]
  },
  {
   "cell_type": "code",
   "execution_count": 15,
   "metadata": {},
   "outputs": [
    {
     "data": {
      "text/html": [
       "<div>\n",
       "<style scoped>\n",
       "    .dataframe tbody tr th:only-of-type {\n",
       "        vertical-align: middle;\n",
       "    }\n",
       "\n",
       "    .dataframe tbody tr th {\n",
       "        vertical-align: top;\n",
       "    }\n",
       "\n",
       "    .dataframe thead th {\n",
       "        text-align: right;\n",
       "    }\n",
       "</style>\n",
       "<table border=\"1\" class=\"dataframe\">\n",
       "  <thead>\n",
       "    <tr style=\"text-align: right;\">\n",
       "      <th></th>\n",
       "      <th>1</th>\n",
       "      <th>Goroka Airport</th>\n",
       "      <th>Goroka</th>\n",
       "      <th>Papua New Guinea</th>\n",
       "      <th>GKA</th>\n",
       "      <th>AYGA</th>\n",
       "      <th>-6.081689834590001</th>\n",
       "      <th>145.391998291</th>\n",
       "      <th>5282</th>\n",
       "      <th>10</th>\n",
       "      <th>U</th>\n",
       "      <th>Pacific/Port_Moresby</th>\n",
       "      <th>airport</th>\n",
       "      <th>OurAirports</th>\n",
       "    </tr>\n",
       "  </thead>\n",
       "  <tbody>\n",
       "    <tr>\n",
       "      <th>0</th>\n",
       "      <td>2</td>\n",
       "      <td>Madang Airport</td>\n",
       "      <td>Madang</td>\n",
       "      <td>Papua New Guinea</td>\n",
       "      <td>MAG</td>\n",
       "      <td>AYMD</td>\n",
       "      <td>-5.207080</td>\n",
       "      <td>145.789001</td>\n",
       "      <td>20</td>\n",
       "      <td>10</td>\n",
       "      <td>U</td>\n",
       "      <td>Pacific/Port_Moresby</td>\n",
       "      <td>airport</td>\n",
       "      <td>OurAirports</td>\n",
       "    </tr>\n",
       "    <tr>\n",
       "      <th>1</th>\n",
       "      <td>3</td>\n",
       "      <td>Mount Hagen Kagamuga Airport</td>\n",
       "      <td>Mount Hagen</td>\n",
       "      <td>Papua New Guinea</td>\n",
       "      <td>HGU</td>\n",
       "      <td>AYMH</td>\n",
       "      <td>-5.826790</td>\n",
       "      <td>144.296005</td>\n",
       "      <td>5388</td>\n",
       "      <td>10</td>\n",
       "      <td>U</td>\n",
       "      <td>Pacific/Port_Moresby</td>\n",
       "      <td>airport</td>\n",
       "      <td>OurAirports</td>\n",
       "    </tr>\n",
       "    <tr>\n",
       "      <th>2</th>\n",
       "      <td>4</td>\n",
       "      <td>Nadzab Airport</td>\n",
       "      <td>Nadzab</td>\n",
       "      <td>Papua New Guinea</td>\n",
       "      <td>LAE</td>\n",
       "      <td>AYNZ</td>\n",
       "      <td>-6.569803</td>\n",
       "      <td>146.725977</td>\n",
       "      <td>239</td>\n",
       "      <td>10</td>\n",
       "      <td>U</td>\n",
       "      <td>Pacific/Port_Moresby</td>\n",
       "      <td>airport</td>\n",
       "      <td>OurAirports</td>\n",
       "    </tr>\n",
       "    <tr>\n",
       "      <th>3</th>\n",
       "      <td>5</td>\n",
       "      <td>Port Moresby Jacksons International Airport</td>\n",
       "      <td>Port Moresby</td>\n",
       "      <td>Papua New Guinea</td>\n",
       "      <td>POM</td>\n",
       "      <td>AYPY</td>\n",
       "      <td>-9.443380</td>\n",
       "      <td>147.220001</td>\n",
       "      <td>146</td>\n",
       "      <td>10</td>\n",
       "      <td>U</td>\n",
       "      <td>Pacific/Port_Moresby</td>\n",
       "      <td>airport</td>\n",
       "      <td>OurAirports</td>\n",
       "    </tr>\n",
       "    <tr>\n",
       "      <th>4</th>\n",
       "      <td>6</td>\n",
       "      <td>Wewak International Airport</td>\n",
       "      <td>Wewak</td>\n",
       "      <td>Papua New Guinea</td>\n",
       "      <td>WWK</td>\n",
       "      <td>AYWK</td>\n",
       "      <td>-3.583830</td>\n",
       "      <td>143.669006</td>\n",
       "      <td>19</td>\n",
       "      <td>10</td>\n",
       "      <td>U</td>\n",
       "      <td>Pacific/Port_Moresby</td>\n",
       "      <td>airport</td>\n",
       "      <td>OurAirports</td>\n",
       "    </tr>\n",
       "  </tbody>\n",
       "</table>\n",
       "</div>"
      ],
      "text/plain": [
       "   1                               Goroka Airport        Goroka  \\\n",
       "0  2                               Madang Airport        Madang   \n",
       "1  3                 Mount Hagen Kagamuga Airport   Mount Hagen   \n",
       "2  4                               Nadzab Airport        Nadzab   \n",
       "3  5  Port Moresby Jacksons International Airport  Port Moresby   \n",
       "4  6                  Wewak International Airport         Wewak   \n",
       "\n",
       "   Papua New Guinea  GKA  AYGA  -6.081689834590001  145.391998291  5282  10  \\\n",
       "0  Papua New Guinea  MAG  AYMD           -5.207080     145.789001    20  10   \n",
       "1  Papua New Guinea  HGU  AYMH           -5.826790     144.296005  5388  10   \n",
       "2  Papua New Guinea  LAE  AYNZ           -6.569803     146.725977   239  10   \n",
       "3  Papua New Guinea  POM  AYPY           -9.443380     147.220001   146  10   \n",
       "4  Papua New Guinea  WWK  AYWK           -3.583830     143.669006    19  10   \n",
       "\n",
       "   U  Pacific/Port_Moresby  airport  OurAirports  \n",
       "0  U  Pacific/Port_Moresby  airport  OurAirports  \n",
       "1  U  Pacific/Port_Moresby  airport  OurAirports  \n",
       "2  U  Pacific/Port_Moresby  airport  OurAirports  \n",
       "3  U  Pacific/Port_Moresby  airport  OurAirports  \n",
       "4  U  Pacific/Port_Moresby  airport  OurAirports  "
      ]
     },
     "execution_count": 15,
     "metadata": {},
     "output_type": "execute_result"
    }
   ],
   "source": [
    "Airports_data_df.head()"
   ]
  },
  {
   "cell_type": "code",
   "execution_count": 16,
   "metadata": {},
   "outputs": [],
   "source": [
    "Airports_df=pd.concat([\n",
    "\n",
    "    df[['Origin_IATA_Code','Dep_Airport']].rename(columns={\"Origin_IATA_Code\":'IATA_Code','Dep_Airport':'AirportName'}),\n",
    "    df[['Dest_IATA_Code','Dest_Airport']].rename(columns={\"Dest_IATA_Code\":'IATA_Code','Dest_Airport':'AirportName'})\n",
    "],ignore_index=True)"
   ]
  },
  {
   "cell_type": "code",
   "execution_count": 17,
   "metadata": {},
   "outputs": [],
   "source": [
    "Airports=list(Airports_df['IATA_Code'])"
   ]
  },
  {
   "cell_type": "code",
   "execution_count": 18,
   "metadata": {},
   "outputs": [
    {
     "data": {
      "text/plain": [
       "['IND',\n",
       " 'IND',\n",
       " 'IND',\n",
       " 'IND',\n",
       " 'IND',\n",
       " 'ISP',\n",
       " 'ISP',\n",
       " 'ISP',\n",
       " 'ISP',\n",
       " 'ISP',\n",
       " 'ISP',\n",
       " 'JAN',\n",
       " 'JAN',\n",
       " 'JAN',\n",
       " 'JAN',\n",
       " 'JAN',\n",
       " 'JAX',\n",
       " 'JAX',\n",
       " 'JAX',\n",
       " 'JAX',\n",
       " 'JAX',\n",
       " 'JAX',\n",
       " 'LAS',\n",
       " 'LAS',\n",
       " 'LAS',\n",
       " 'LAS',\n",
       " 'LAS',\n",
       " 'LAS',\n",
       " 'LAS',\n",
       " 'LAS',\n",
       " 'LAS',\n",
       " 'LAS',\n",
       " 'LAS',\n",
       " 'LAS',\n",
       " 'LAS',\n",
       " 'LAS',\n",
       " 'LAS',\n",
       " 'LAS',\n",
       " 'LAS',\n",
       " 'LAS',\n",
       " 'LAS',\n",
       " 'LAS',\n",
       " 'LAS',\n",
       " 'LAS',\n",
       " 'LAS',\n",
       " 'LAS',\n",
       " 'LAS',\n",
       " 'LAS',\n",
       " 'LAS',\n",
       " 'LAS',\n",
       " 'LAS',\n",
       " 'LAS',\n",
       " 'LAS',\n",
       " 'LAS',\n",
       " 'LAS',\n",
       " 'LAS',\n",
       " 'LAS',\n",
       " 'LAS',\n",
       " 'LAS',\n",
       " 'LAS',\n",
       " 'LAS',\n",
       " 'LAS',\n",
       " 'LAS',\n",
       " 'LAS',\n",
       " 'LAS',\n",
       " 'LAS',\n",
       " 'LAS',\n",
       " 'LAS',\n",
       " 'LAS',\n",
       " 'LAS',\n",
       " 'LAS',\n",
       " 'LAS',\n",
       " 'LAS',\n",
       " 'LAS',\n",
       " 'LAS',\n",
       " 'LAS',\n",
       " 'LAS',\n",
       " 'LAS',\n",
       " 'LAS',\n",
       " 'LAS',\n",
       " 'LAS',\n",
       " 'LAS',\n",
       " 'LAS',\n",
       " 'LAS',\n",
       " 'LAS',\n",
       " 'LAS',\n",
       " 'LAS',\n",
       " 'LAS',\n",
       " 'LAS',\n",
       " 'LAS',\n",
       " 'LAS',\n",
       " 'LAS',\n",
       " 'LAS',\n",
       " 'LAS',\n",
       " 'LAS',\n",
       " 'LAS',\n",
       " 'LAS',\n",
       " 'LAS',\n",
       " 'LAS',\n",
       " 'LAS',\n",
       " 'LAS',\n",
       " 'LAS',\n",
       " 'LAS',\n",
       " 'LAS',\n",
       " 'LAS',\n",
       " 'LAS',\n",
       " 'LAS',\n",
       " 'LAS',\n",
       " 'LAS',\n",
       " 'LAS',\n",
       " 'LAS',\n",
       " 'LAS',\n",
       " 'LAS',\n",
       " 'LAS',\n",
       " 'LAS',\n",
       " 'LAS',\n",
       " 'LAS',\n",
       " 'LAS',\n",
       " 'LAS',\n",
       " 'LAS',\n",
       " 'LAS',\n",
       " 'LAS',\n",
       " 'LAS',\n",
       " 'LAS',\n",
       " 'LAS',\n",
       " 'LAS',\n",
       " 'LAS',\n",
       " 'LAS',\n",
       " 'LAS',\n",
       " 'LAS',\n",
       " 'LAS',\n",
       " 'LAS',\n",
       " 'LAS',\n",
       " 'LAS',\n",
       " 'LAS',\n",
       " 'LAS',\n",
       " 'LAS',\n",
       " 'LAS',\n",
       " 'LAS',\n",
       " 'LAS',\n",
       " 'LAS',\n",
       " 'LAS',\n",
       " 'LAS',\n",
       " 'LAS',\n",
       " 'LAS',\n",
       " 'LAS',\n",
       " 'LAS',\n",
       " 'LAS',\n",
       " 'LAS',\n",
       " 'LAS',\n",
       " 'LAS',\n",
       " 'LAS',\n",
       " 'LAS',\n",
       " 'LAS',\n",
       " 'LAS',\n",
       " 'LAS',\n",
       " 'LAS',\n",
       " 'LAS',\n",
       " 'LAX',\n",
       " 'LAX',\n",
       " 'LAX',\n",
       " 'LAX',\n",
       " 'LAX',\n",
       " 'LAX',\n",
       " 'LAX',\n",
       " 'LAX',\n",
       " 'LAX',\n",
       " 'LAX',\n",
       " 'LAX',\n",
       " 'LAX',\n",
       " 'LAX',\n",
       " 'LAX',\n",
       " 'LAX',\n",
       " 'LAX',\n",
       " 'LAX',\n",
       " 'LAX',\n",
       " 'LAX',\n",
       " 'LAX',\n",
       " 'LAX',\n",
       " 'LAX',\n",
       " 'LAX',\n",
       " 'LAX',\n",
       " 'LAX',\n",
       " 'LAX',\n",
       " 'LAX',\n",
       " 'LAX',\n",
       " 'LAX',\n",
       " 'LAX',\n",
       " 'LAX',\n",
       " 'LAX',\n",
       " 'LAX',\n",
       " 'LAX',\n",
       " 'LAX',\n",
       " 'LAX',\n",
       " 'LAX',\n",
       " 'LAX',\n",
       " 'LAX',\n",
       " 'LAX',\n",
       " 'LAX',\n",
       " 'LAX',\n",
       " 'LAX',\n",
       " 'LAX',\n",
       " 'LAX',\n",
       " 'LAX',\n",
       " 'LAX',\n",
       " 'LAX',\n",
       " 'LAX',\n",
       " 'LAX',\n",
       " 'LAX',\n",
       " 'LAX',\n",
       " 'LAX',\n",
       " 'LAX',\n",
       " 'LAX',\n",
       " 'LAX',\n",
       " 'LAX',\n",
       " 'LAX',\n",
       " 'LAX',\n",
       " 'LAX',\n",
       " 'LAX',\n",
       " 'LAX',\n",
       " 'LAX',\n",
       " 'LAX',\n",
       " 'LAX',\n",
       " 'LBB',\n",
       " 'LBB',\n",
       " 'LBB',\n",
       " 'LIT',\n",
       " 'LIT',\n",
       " 'LIT',\n",
       " 'LIT',\n",
       " 'LIT',\n",
       " 'MAF',\n",
       " 'MAF',\n",
       " 'MAF',\n",
       " 'MAF',\n",
       " 'MAF',\n",
       " 'MAF',\n",
       " 'MCI',\n",
       " 'MCI',\n",
       " 'MCI',\n",
       " 'MCI',\n",
       " 'MCI',\n",
       " 'MCI',\n",
       " 'MCI',\n",
       " 'MCI',\n",
       " 'MCI',\n",
       " 'MCI',\n",
       " 'MCI',\n",
       " 'MCI',\n",
       " 'MCI',\n",
       " 'MCI',\n",
       " 'MCI',\n",
       " 'MCI',\n",
       " 'MCI',\n",
       " 'MCI',\n",
       " 'MCI',\n",
       " 'MCI',\n",
       " 'MCI',\n",
       " 'MCI',\n",
       " 'MCI',\n",
       " 'MCI',\n",
       " 'MCI',\n",
       " 'MCI',\n",
       " 'MCI',\n",
       " 'MCO',\n",
       " 'MCO',\n",
       " 'MCO',\n",
       " 'MCO',\n",
       " 'MCO',\n",
       " 'MCO',\n",
       " 'MCO',\n",
       " 'MCO',\n",
       " 'MCO',\n",
       " 'MCO',\n",
       " 'MCO',\n",
       " 'MCO',\n",
       " 'MCO',\n",
       " 'MCO',\n",
       " 'MCO',\n",
       " 'MCO',\n",
       " 'MCO',\n",
       " 'MCO',\n",
       " 'MCO',\n",
       " 'MCO',\n",
       " 'MCO',\n",
       " 'MCO',\n",
       " 'MCO',\n",
       " 'MCO',\n",
       " 'MCO',\n",
       " 'MCO',\n",
       " 'MCO',\n",
       " 'MCO',\n",
       " 'MCO',\n",
       " 'MCO',\n",
       " 'MCO',\n",
       " 'MCO',\n",
       " 'MCO',\n",
       " 'MCO',\n",
       " 'MCO',\n",
       " 'MCO',\n",
       " 'MCO',\n",
       " 'MCO',\n",
       " 'MCO',\n",
       " 'MCO',\n",
       " 'MDW',\n",
       " 'MDW',\n",
       " 'MDW',\n",
       " 'MDW',\n",
       " 'MDW',\n",
       " 'MDW',\n",
       " 'MDW',\n",
       " 'MDW',\n",
       " 'MDW',\n",
       " 'MDW',\n",
       " 'MDW',\n",
       " 'MDW',\n",
       " 'MDW',\n",
       " 'MDW',\n",
       " 'MDW',\n",
       " 'MDW',\n",
       " 'MDW',\n",
       " 'MDW',\n",
       " 'MDW',\n",
       " 'MDW',\n",
       " 'MDW',\n",
       " 'MDW',\n",
       " 'MDW',\n",
       " 'MDW',\n",
       " 'MDW',\n",
       " 'MDW',\n",
       " 'MDW',\n",
       " 'MDW',\n",
       " 'MDW',\n",
       " 'MDW',\n",
       " 'MDW',\n",
       " 'MDW',\n",
       " 'MDW',\n",
       " 'MDW',\n",
       " 'MDW',\n",
       " 'MDW',\n",
       " 'MDW',\n",
       " 'MDW',\n",
       " 'MDW',\n",
       " 'MDW',\n",
       " 'MDW',\n",
       " 'MDW',\n",
       " 'MDW',\n",
       " 'MDW',\n",
       " 'MDW',\n",
       " 'MDW',\n",
       " 'MDW',\n",
       " 'MDW',\n",
       " 'MDW',\n",
       " 'MDW',\n",
       " 'MDW',\n",
       " 'MDW',\n",
       " 'MDW',\n",
       " 'MDW',\n",
       " 'MDW',\n",
       " 'MDW',\n",
       " 'MDW',\n",
       " 'MDW',\n",
       " 'MDW',\n",
       " 'MDW',\n",
       " 'MDW',\n",
       " 'MDW',\n",
       " 'MDW',\n",
       " 'MDW',\n",
       " 'MDW',\n",
       " 'MDW',\n",
       " 'MDW',\n",
       " 'MDW',\n",
       " 'MDW',\n",
       " 'MDW',\n",
       " 'MDW',\n",
       " 'MDW',\n",
       " 'MDW',\n",
       " 'MDW',\n",
       " 'MDW',\n",
       " 'MDW',\n",
       " 'MDW',\n",
       " 'MDW',\n",
       " 'MDW',\n",
       " 'MDW',\n",
       " 'MDW',\n",
       " 'MDW',\n",
       " 'MDW',\n",
       " 'MDW',\n",
       " 'MDW',\n",
       " 'MDW',\n",
       " 'MDW',\n",
       " 'MDW',\n",
       " 'MDW',\n",
       " 'MDW',\n",
       " 'MDW',\n",
       " 'MDW',\n",
       " 'MDW',\n",
       " 'MDW',\n",
       " 'MDW',\n",
       " 'MDW',\n",
       " 'MDW',\n",
       " 'MDW',\n",
       " 'MDW',\n",
       " 'MDW',\n",
       " 'MDW',\n",
       " 'MDW',\n",
       " 'MDW',\n",
       " 'MDW',\n",
       " 'MDW',\n",
       " 'MDW',\n",
       " 'MDW',\n",
       " 'MDW',\n",
       " 'MDW',\n",
       " 'MDW',\n",
       " 'MDW',\n",
       " 'MDW',\n",
       " 'MDW',\n",
       " 'MDW',\n",
       " 'MDW',\n",
       " 'MDW',\n",
       " 'MDW',\n",
       " 'MDW',\n",
       " 'MDW',\n",
       " 'MDW',\n",
       " 'MDW',\n",
       " 'MDW',\n",
       " 'MDW',\n",
       " 'MDW',\n",
       " 'MDW',\n",
       " 'MDW',\n",
       " 'MDW',\n",
       " 'MDW',\n",
       " 'MDW',\n",
       " 'MDW',\n",
       " 'MDW',\n",
       " 'MDW',\n",
       " 'MDW',\n",
       " 'MDW',\n",
       " 'MDW',\n",
       " 'MDW',\n",
       " 'MDW',\n",
       " 'MDW',\n",
       " 'MDW',\n",
       " 'MDW',\n",
       " 'MDW',\n",
       " 'MDW',\n",
       " 'MDW',\n",
       " 'MDW',\n",
       " 'MDW',\n",
       " 'MDW',\n",
       " 'MDW',\n",
       " 'MDW',\n",
       " 'MDW',\n",
       " 'MDW',\n",
       " 'MHT',\n",
       " 'MHT',\n",
       " 'MHT',\n",
       " 'MHT',\n",
       " 'MHT',\n",
       " 'MHT',\n",
       " 'MHT',\n",
       " 'MHT',\n",
       " 'MHT',\n",
       " 'MHT',\n",
       " 'MHT',\n",
       " 'MHT',\n",
       " 'MHT',\n",
       " 'MHT',\n",
       " 'MSY',\n",
       " 'MSY',\n",
       " 'MSY',\n",
       " 'MSY',\n",
       " 'MSY',\n",
       " 'MSY',\n",
       " 'MSY',\n",
       " 'MSY',\n",
       " 'MSY',\n",
       " 'MSY',\n",
       " 'OAK',\n",
       " 'OAK',\n",
       " 'OAK',\n",
       " 'OAK',\n",
       " 'OAK',\n",
       " 'OAK',\n",
       " 'OAK',\n",
       " 'OAK',\n",
       " 'OAK',\n",
       " 'OAK',\n",
       " 'OAK',\n",
       " 'OAK',\n",
       " 'OAK',\n",
       " 'OAK',\n",
       " 'OAK',\n",
       " 'OAK',\n",
       " 'OAK',\n",
       " 'OAK',\n",
       " 'OAK',\n",
       " 'OAK',\n",
       " 'OAK',\n",
       " 'OAK',\n",
       " 'OAK',\n",
       " 'OAK',\n",
       " 'OAK',\n",
       " 'OAK',\n",
       " 'OAK',\n",
       " 'OAK',\n",
       " 'OAK',\n",
       " 'OAK',\n",
       " 'OAK',\n",
       " 'OAK',\n",
       " 'OAK',\n",
       " 'OAK',\n",
       " 'OAK',\n",
       " 'OAK',\n",
       " 'OAK',\n",
       " 'OAK',\n",
       " 'OAK',\n",
       " 'OAK',\n",
       " 'OAK',\n",
       " 'OAK',\n",
       " 'OAK',\n",
       " 'OAK',\n",
       " 'OAK',\n",
       " 'OAK',\n",
       " 'OAK',\n",
       " 'OAK',\n",
       " 'OAK',\n",
       " 'OAK',\n",
       " 'OAK',\n",
       " 'OAK',\n",
       " 'OAK',\n",
       " 'OAK',\n",
       " 'OAK',\n",
       " 'OAK',\n",
       " 'OAK',\n",
       " 'OAK',\n",
       " 'OAK',\n",
       " 'OAK',\n",
       " 'OAK',\n",
       " 'OAK',\n",
       " 'OAK',\n",
       " 'OAK',\n",
       " 'OAK',\n",
       " 'OAK',\n",
       " 'OAK',\n",
       " 'OAK',\n",
       " 'OAK',\n",
       " 'OAK',\n",
       " 'OAK',\n",
       " 'OAK',\n",
       " 'OAK',\n",
       " 'OAK',\n",
       " 'OAK',\n",
       " 'OAK',\n",
       " 'OAK',\n",
       " 'OAK',\n",
       " 'OAK',\n",
       " 'OKC',\n",
       " 'OKC',\n",
       " 'OKC',\n",
       " 'OKC',\n",
       " 'OKC',\n",
       " 'OKC',\n",
       " 'OMA',\n",
       " 'OMA',\n",
       " 'OMA',\n",
       " 'OMA',\n",
       " 'OMA',\n",
       " 'OMA',\n",
       " 'ONT',\n",
       " 'ONT',\n",
       " 'ONT',\n",
       " 'ONT',\n",
       " 'ONT',\n",
       " 'ONT',\n",
       " 'ONT',\n",
       " 'ONT',\n",
       " 'ONT',\n",
       " 'ONT',\n",
       " 'ONT',\n",
       " 'ONT',\n",
       " 'ONT',\n",
       " 'ONT',\n",
       " 'ONT',\n",
       " 'ONT',\n",
       " 'ONT',\n",
       " 'ONT',\n",
       " 'ONT',\n",
       " 'ONT',\n",
       " 'ONT',\n",
       " 'ONT',\n",
       " 'ORF',\n",
       " 'ORF',\n",
       " 'ORF',\n",
       " 'ORF',\n",
       " 'ORF',\n",
       " 'ORF',\n",
       " 'ORF',\n",
       " 'ORF',\n",
       " 'ORF',\n",
       " 'PBI',\n",
       " 'PBI',\n",
       " 'PBI',\n",
       " 'PBI',\n",
       " 'PDX',\n",
       " 'PDX',\n",
       " 'PDX',\n",
       " 'PDX',\n",
       " 'PDX',\n",
       " 'PDX',\n",
       " 'PDX',\n",
       " 'PDX',\n",
       " 'PDX',\n",
       " 'PDX',\n",
       " 'PDX',\n",
       " 'PDX',\n",
       " 'PDX',\n",
       " 'PDX',\n",
       " 'PDX',\n",
       " 'PDX',\n",
       " 'PDX',\n",
       " 'PDX',\n",
       " 'PDX',\n",
       " 'PDX',\n",
       " 'PDX',\n",
       " 'PDX',\n",
       " 'PDX',\n",
       " 'PDX',\n",
       " 'PDX',\n",
       " 'PHL',\n",
       " 'PHL',\n",
       " 'PHL',\n",
       " 'PHL',\n",
       " 'PHL',\n",
       " 'PHL',\n",
       " 'PHL',\n",
       " 'PHL',\n",
       " 'PHL',\n",
       " 'PHL',\n",
       " 'PHL',\n",
       " 'PHX',\n",
       " 'PHX',\n",
       " 'PHX',\n",
       " 'PHX',\n",
       " 'PHX',\n",
       " 'PHX',\n",
       " 'PHX',\n",
       " 'PHX',\n",
       " 'PHX',\n",
       " 'PHX',\n",
       " 'PHX',\n",
       " 'PHX',\n",
       " 'PHX',\n",
       " 'PHX',\n",
       " 'PHX',\n",
       " 'PHX',\n",
       " 'PHX',\n",
       " 'PHX',\n",
       " 'PHX',\n",
       " 'PHX',\n",
       " 'PHX',\n",
       " 'PHX',\n",
       " 'PHX',\n",
       " 'PHX',\n",
       " 'PHX',\n",
       " 'PHX',\n",
       " 'PHX',\n",
       " 'PHX',\n",
       " 'PHX',\n",
       " 'PHX',\n",
       " 'PHX',\n",
       " 'PHX',\n",
       " 'PHX',\n",
       " 'PHX',\n",
       " 'PHX',\n",
       " 'PHX',\n",
       " 'PHX',\n",
       " 'PHX',\n",
       " 'PHX',\n",
       " 'PHX',\n",
       " 'PHX',\n",
       " 'PHX',\n",
       " 'PHX',\n",
       " 'PHX',\n",
       " 'PHX',\n",
       " 'PHX',\n",
       " 'PHX',\n",
       " 'PHX',\n",
       " 'PHX',\n",
       " 'PHX',\n",
       " 'PHX',\n",
       " 'PHX',\n",
       " 'PHX',\n",
       " 'PHX',\n",
       " 'PHX',\n",
       " 'PHX',\n",
       " 'PHX',\n",
       " 'PHX',\n",
       " 'PHX',\n",
       " 'PHX',\n",
       " 'PHX',\n",
       " 'PHX',\n",
       " 'PHX',\n",
       " 'PHX',\n",
       " 'PHX',\n",
       " 'PHX',\n",
       " 'PHX',\n",
       " 'PHX',\n",
       " 'PHX',\n",
       " 'PHX',\n",
       " 'PHX',\n",
       " 'PHX',\n",
       " 'PHX',\n",
       " 'PHX',\n",
       " 'PHX',\n",
       " 'PHX',\n",
       " 'PHX',\n",
       " 'PHX',\n",
       " 'PIT',\n",
       " 'PIT',\n",
       " 'PIT',\n",
       " 'PIT',\n",
       " 'PIT',\n",
       " 'PIT',\n",
       " 'PVD',\n",
       " 'PVD',\n",
       " 'PVD',\n",
       " 'PVD',\n",
       " 'RDU',\n",
       " 'RDU',\n",
       " 'RDU',\n",
       " 'RDU',\n",
       " 'RDU',\n",
       " 'RDU',\n",
       " 'RDU',\n",
       " 'RDU',\n",
       " 'RDU',\n",
       " 'RDU',\n",
       " 'RNO',\n",
       " 'RNO',\n",
       " 'RNO',\n",
       " 'RNO',\n",
       " 'RNO',\n",
       " 'RNO',\n",
       " 'RNO',\n",
       " 'RNO',\n",
       " 'RNO',\n",
       " 'RNO',\n",
       " 'RNO',\n",
       " 'RNO',\n",
       " 'RNO',\n",
       " 'RNO',\n",
       " 'RNO',\n",
       " 'RNO',\n",
       " 'RNO',\n",
       " 'RNO',\n",
       " 'RNO',\n",
       " 'RNO',\n",
       " 'RNO',\n",
       " 'RNO',\n",
       " 'RNO',\n",
       " 'RNO',\n",
       " 'RSW',\n",
       " 'RSW',\n",
       " 'RSW',\n",
       " 'SAN',\n",
       " 'SAN',\n",
       " 'SAN',\n",
       " 'SAN',\n",
       " 'SAN',\n",
       " 'SAN',\n",
       " 'SAN',\n",
       " 'SAN',\n",
       " 'SAN',\n",
       " 'SAN',\n",
       " 'SAN',\n",
       " 'SAN',\n",
       " 'SAN',\n",
       " 'SAN',\n",
       " 'SAN',\n",
       " 'SAN',\n",
       " 'SAN',\n",
       " 'SAN',\n",
       " 'SAN',\n",
       " 'SAN',\n",
       " 'SAN',\n",
       " 'SAN',\n",
       " 'SAN',\n",
       " 'SAN',\n",
       " 'SAN',\n",
       " 'SAN',\n",
       " 'SAN',\n",
       " 'SAN',\n",
       " 'SAN',\n",
       " 'SAN',\n",
       " 'SAN',\n",
       " 'SAN',\n",
       " 'SAN',\n",
       " 'SAN',\n",
       " 'SAN',\n",
       " 'SAN',\n",
       " 'SAN',\n",
       " 'SAN',\n",
       " 'SAN',\n",
       " 'SAN',\n",
       " 'SAN',\n",
       " 'SAN',\n",
       " 'SAN',\n",
       " 'SAN',\n",
       " 'SAN',\n",
       " 'SAN',\n",
       " 'SAN',\n",
       " 'SAN',\n",
       " 'SAN',\n",
       " 'SAN',\n",
       " 'SAN',\n",
       " 'SAN',\n",
       " 'SAN',\n",
       " 'SAT',\n",
       " 'SAT',\n",
       " 'SAT',\n",
       " 'SAT',\n",
       " 'SAT',\n",
       " 'SAT',\n",
       " 'SAT',\n",
       " 'SAT',\n",
       " 'SAT',\n",
       " 'SAT',\n",
       " 'SAT',\n",
       " 'SAT',\n",
       " 'SAT',\n",
       " 'SAT',\n",
       " 'SAT',\n",
       " 'SAT',\n",
       " 'SDF',\n",
       " 'SDF',\n",
       " 'SDF',\n",
       " 'SDF',\n",
       " 'SDF',\n",
       " 'SDF',\n",
       " 'SEA',\n",
       " 'SEA',\n",
       " 'SEA',\n",
       " 'SEA',\n",
       " 'SEA',\n",
       " 'SEA',\n",
       " 'SEA',\n",
       " 'SEA',\n",
       " 'SEA',\n",
       " 'SEA',\n",
       " 'SEA',\n",
       " 'SEA',\n",
       " 'SEA',\n",
       " 'SEA',\n",
       " 'SEA',\n",
       " 'SEA',\n",
       " 'SEA',\n",
       " 'SEA',\n",
       " 'SEA',\n",
       " 'SEA',\n",
       " 'SEA',\n",
       " 'SEA',\n",
       " 'SEA',\n",
       " 'SEA',\n",
       " 'SFO',\n",
       " 'SFO',\n",
       " 'SFO',\n",
       " 'SFO',\n",
       " 'SFO',\n",
       " 'SFO',\n",
       " 'SFO',\n",
       " 'SFO',\n",
       " 'SFO',\n",
       " 'SFO',\n",
       " 'SFO',\n",
       " 'SFO',\n",
       " 'SFO',\n",
       " 'SFO',\n",
       " 'SFO',\n",
       " 'SFO',\n",
       " 'SJC',\n",
       " 'SJC',\n",
       " 'SJC',\n",
       " 'SJC',\n",
       " 'SJC',\n",
       " 'SJC',\n",
       " 'SJC',\n",
       " 'SJC',\n",
       " 'SJC',\n",
       " 'SJC',\n",
       " 'SJC',\n",
       " 'SJC',\n",
       " 'SJC',\n",
       " 'SJC',\n",
       " 'SJC',\n",
       " 'SJC',\n",
       " 'SJC',\n",
       " 'SJC',\n",
       " 'SJC',\n",
       " 'SJC',\n",
       " 'SJC',\n",
       " 'SJC',\n",
       " 'SJC',\n",
       " 'SJC',\n",
       " 'SJC',\n",
       " 'SJC',\n",
       " 'SJC',\n",
       " 'SJC',\n",
       " 'SJC',\n",
       " 'SJC',\n",
       " 'SJC',\n",
       " 'SJC',\n",
       " 'SJC',\n",
       " 'SJC',\n",
       " 'SJC',\n",
       " 'SLC',\n",
       " 'SLC',\n",
       " 'SLC',\n",
       " 'SLC',\n",
       " 'SLC',\n",
       " 'SLC',\n",
       " 'SLC',\n",
       " 'SLC',\n",
       " 'SLC',\n",
       " 'SLC',\n",
       " 'SLC',\n",
       " 'SLC',\n",
       " 'SLC',\n",
       " 'SLC',\n",
       " 'SLC',\n",
       " 'SLC',\n",
       " 'SLC',\n",
       " 'SLC',\n",
       " 'SLC',\n",
       " 'SLC',\n",
       " 'SLC',\n",
       " 'SLC',\n",
       " 'SLC',\n",
       " 'SLC',\n",
       " 'SLC',\n",
       " 'SMF',\n",
       " 'SMF',\n",
       " 'SMF',\n",
       " 'SMF',\n",
       " 'SMF',\n",
       " 'SMF',\n",
       " 'SMF',\n",
       " 'SMF',\n",
       " 'SMF',\n",
       " 'SMF',\n",
       " 'SMF',\n",
       " 'SMF',\n",
       " 'SMF',\n",
       " 'SMF',\n",
       " 'SMF',\n",
       " 'SMF',\n",
       " 'SMF',\n",
       " 'SMF',\n",
       " 'SMF',\n",
       " 'SMF',\n",
       " 'SMF',\n",
       " 'SMF',\n",
       " 'SMF',\n",
       " 'SMF',\n",
       " 'SMF',\n",
       " 'SMF',\n",
       " 'SMF',\n",
       " 'SMF',\n",
       " 'SMF',\n",
       " 'SMF',\n",
       " 'SMF',\n",
       " 'SMF',\n",
       " 'SMF',\n",
       " 'SMF',\n",
       " 'SMF',\n",
       " 'SMF',\n",
       " 'SMF',\n",
       " 'SMF',\n",
       " 'SMF',\n",
       " 'SNA',\n",
       " 'SNA',\n",
       " 'SNA',\n",
       " 'SNA',\n",
       " 'SNA',\n",
       " 'SNA',\n",
       " 'SNA',\n",
       " 'SNA',\n",
       " 'SNA',\n",
       " 'SNA',\n",
       " 'SNA',\n",
       " 'SNA',\n",
       " 'SNA',\n",
       " 'SNA',\n",
       " 'STL',\n",
       " 'STL',\n",
       " 'STL',\n",
       " 'STL',\n",
       " 'STL',\n",
       " 'STL',\n",
       " 'STL',\n",
       " ...]"
      ]
     },
     "execution_count": 18,
     "metadata": {},
     "output_type": "execute_result"
    }
   ],
   "source": [
    "Airports"
   ]
  },
  {
   "cell_type": "code",
   "execution_count": 19,
   "metadata": {},
   "outputs": [
    {
     "data": {
      "text/plain": [
       "969102"
      ]
     },
     "execution_count": 19,
     "metadata": {},
     "output_type": "execute_result"
    }
   ],
   "source": [
    "len(Airports)"
   ]
  },
  {
   "cell_type": "code",
   "execution_count": 20,
   "metadata": {},
   "outputs": [
    {
     "data": {
      "text/plain": [
       "Index(['1', 'Goroka Airport', 'Goroka', 'Papua New Guinea', 'GKA', 'AYGA',\n",
       "       '-6.081689834590001', '145.391998291', '5282', '10', 'U',\n",
       "       'Pacific/Port_Moresby', 'airport', 'OurAirports'],\n",
       "      dtype='object')"
      ]
     },
     "execution_count": 20,
     "metadata": {},
     "output_type": "execute_result"
    }
   ],
   "source": [
    "Airports_data_df.columns"
   ]
  },
  {
   "cell_type": "code",
   "execution_count": 21,
   "metadata": {},
   "outputs": [],
   "source": [
    "Airports_GeoLocation=Airports_data_df[Airports_data_df['GKA'].isin(Airports)][['GKA','AYGA','-6.081689834590001','145.391998291']]"
   ]
  },
  {
   "cell_type": "code",
   "execution_count": 22,
   "metadata": {},
   "outputs": [
    {
     "data": {
      "text/plain": [
       "GKA                   274\n",
       "AYGA                  274\n",
       "-6.081689834590001    274\n",
       "145.391998291         274\n",
       "dtype: int64"
      ]
     },
     "execution_count": 22,
     "metadata": {},
     "output_type": "execute_result"
    }
   ],
   "source": [
    "Airports_GeoLocation.nunique()"
   ]
  },
  {
   "cell_type": "code",
   "execution_count": 23,
   "metadata": {},
   "outputs": [
    {
     "data": {
      "text/html": [
       "<div>\n",
       "<style scoped>\n",
       "    .dataframe tbody tr th:only-of-type {\n",
       "        vertical-align: middle;\n",
       "    }\n",
       "\n",
       "    .dataframe tbody tr th {\n",
       "        vertical-align: top;\n",
       "    }\n",
       "\n",
       "    .dataframe thead th {\n",
       "        text-align: right;\n",
       "    }\n",
       "</style>\n",
       "<table border=\"1\" class=\"dataframe\">\n",
       "  <thead>\n",
       "    <tr style=\"text-align: right;\">\n",
       "      <th></th>\n",
       "      <th>GKA</th>\n",
       "      <th>AYGA</th>\n",
       "      <th>-6.081689834590001</th>\n",
       "      <th>145.391998291</th>\n",
       "    </tr>\n",
       "  </thead>\n",
       "  <tbody>\n",
       "    <tr>\n",
       "      <th>2748</th>\n",
       "      <td>STT</td>\n",
       "      <td>TIST</td>\n",
       "      <td>18.337299</td>\n",
       "      <td>-64.973396</td>\n",
       "    </tr>\n",
       "    <tr>\n",
       "      <th>2749</th>\n",
       "      <td>STX</td>\n",
       "      <td>TISX</td>\n",
       "      <td>17.701900</td>\n",
       "      <td>-64.798599</td>\n",
       "    </tr>\n",
       "    <tr>\n",
       "      <th>2750</th>\n",
       "      <td>BQN</td>\n",
       "      <td>TJBQ</td>\n",
       "      <td>18.494900</td>\n",
       "      <td>-67.129402</td>\n",
       "    </tr>\n",
       "    <tr>\n",
       "      <th>2754</th>\n",
       "      <td>PSE</td>\n",
       "      <td>TJPS</td>\n",
       "      <td>18.008301</td>\n",
       "      <td>-66.563004</td>\n",
       "    </tr>\n",
       "    <tr>\n",
       "      <th>2755</th>\n",
       "      <td>SJU</td>\n",
       "      <td>TJSJ</td>\n",
       "      <td>18.439400</td>\n",
       "      <td>-66.001801</td>\n",
       "    </tr>\n",
       "  </tbody>\n",
       "</table>\n",
       "</div>"
      ],
      "text/plain": [
       "      GKA  AYGA  -6.081689834590001  145.391998291\n",
       "2748  STT  TIST           18.337299     -64.973396\n",
       "2749  STX  TISX           17.701900     -64.798599\n",
       "2750  BQN  TJBQ           18.494900     -67.129402\n",
       "2754  PSE  TJPS           18.008301     -66.563004\n",
       "2755  SJU  TJSJ           18.439400     -66.001801"
      ]
     },
     "execution_count": 23,
     "metadata": {},
     "output_type": "execute_result"
    }
   ],
   "source": [
    "Airports_GeoLocation.head()"
   ]
  },
  {
   "cell_type": "code",
   "execution_count": 24,
   "metadata": {},
   "outputs": [
    {
     "data": {
      "text/plain": [
       "GKA                   0\n",
       "AYGA                  0\n",
       "-6.081689834590001    0\n",
       "145.391998291         0\n",
       "dtype: int64"
      ]
     },
     "execution_count": 24,
     "metadata": {},
     "output_type": "execute_result"
    }
   ],
   "source": [
    "Airports_GeoLocation.isnull().sum()"
   ]
  },
  {
   "cell_type": "code",
   "execution_count": 25,
   "metadata": {},
   "outputs": [
    {
     "data": {
      "text/html": [
       "<div>\n",
       "<style scoped>\n",
       "    .dataframe tbody tr th:only-of-type {\n",
       "        vertical-align: middle;\n",
       "    }\n",
       "\n",
       "    .dataframe tbody tr th {\n",
       "        vertical-align: top;\n",
       "    }\n",
       "\n",
       "    .dataframe thead th {\n",
       "        text-align: right;\n",
       "    }\n",
       "</style>\n",
       "<table border=\"1\" class=\"dataframe\">\n",
       "  <thead>\n",
       "    <tr style=\"text-align: right;\">\n",
       "      <th></th>\n",
       "      <th>IATA_Code</th>\n",
       "      <th>AirportName</th>\n",
       "    </tr>\n",
       "  </thead>\n",
       "  <tbody>\n",
       "    <tr>\n",
       "      <th>0</th>\n",
       "      <td>IND</td>\n",
       "      <td>Indianapolis International Airport</td>\n",
       "    </tr>\n",
       "    <tr>\n",
       "      <th>1</th>\n",
       "      <td>IND</td>\n",
       "      <td>Indianapolis International Airport</td>\n",
       "    </tr>\n",
       "    <tr>\n",
       "      <th>2</th>\n",
       "      <td>IND</td>\n",
       "      <td>Indianapolis International Airport</td>\n",
       "    </tr>\n",
       "    <tr>\n",
       "      <th>3</th>\n",
       "      <td>IND</td>\n",
       "      <td>Indianapolis International Airport</td>\n",
       "    </tr>\n",
       "    <tr>\n",
       "      <th>4</th>\n",
       "      <td>IND</td>\n",
       "      <td>Indianapolis International Airport</td>\n",
       "    </tr>\n",
       "  </tbody>\n",
       "</table>\n",
       "</div>"
      ],
      "text/plain": [
       "  IATA_Code                         AirportName\n",
       "0       IND  Indianapolis International Airport\n",
       "1       IND  Indianapolis International Airport\n",
       "2       IND  Indianapolis International Airport\n",
       "3       IND  Indianapolis International Airport\n",
       "4       IND  Indianapolis International Airport"
      ]
     },
     "execution_count": 25,
     "metadata": {},
     "output_type": "execute_result"
    }
   ],
   "source": [
    "Airports_df.head()"
   ]
  },
  {
   "cell_type": "code",
   "execution_count": 26,
   "metadata": {},
   "outputs": [
    {
     "data": {
      "text/plain": [
       "array(['IND', 'ISP', 'JAN', 'JAX', 'LAS', 'LAX', 'LBB', 'LIT', 'MAF',\n",
       "       'MCI', 'MCO', 'MDW', 'MHT', 'MSY', 'OAK', 'OKC', 'OMA', 'ONT',\n",
       "       'ORF', 'PBI', 'PDX', 'PHL', 'PHX', 'PIT', 'PVD', 'RDU', 'RNO',\n",
       "       'RSW', 'SAN', 'SAT', 'SDF', 'SEA', 'SFO', 'SJC', 'SLC', 'SMF',\n",
       "       'SNA', 'STL', 'TPA', 'TUL', 'TUS', 'ABQ', 'AMA', 'AUS', 'BHM',\n",
       "       'BNA', 'BOI', 'BUF', 'BUR', 'BWI', 'CMH', 'CRP', 'DAL', 'DEN',\n",
       "       'ELP', 'FLL', 'GEG', 'HOU', 'HRL', 'IAD', 'ALB', 'BDL', 'DTW',\n",
       "       'CLE', 'ORD', 'ATL', 'CVG', 'MKE', 'MSP', 'EWR', 'SUN', 'SGU',\n",
       "       'MSO', 'BZN', 'GTF', 'BIL', 'PSP', 'HDN', 'IAH', 'DFW', 'ASE',\n",
       "       'JAC', 'SBP', 'FAT', 'EUG', 'MOD', 'LEX', 'FSD', 'BTV', 'ROA',\n",
       "       'MEM', 'FAR', 'XNA', 'COS', 'GUC', 'AZO', 'TVC', 'CRW', 'TYS',\n",
       "       'SAV', 'ICT', 'GJT', 'PIA', 'SGF', 'MSN', 'CID', 'MLI', 'DRO',\n",
       "       'CHS', 'DSM', 'ATW', 'GRB', 'FWA', 'DAY', 'LNK', 'FCA', 'IDA',\n",
       "       'HSV', 'CWA', 'MFR', 'PSC', 'SYR', 'SBA', 'RAP', 'YUM', 'RDM',\n",
       "       'LGB', 'MTJ', 'RDD', 'CLD', 'SBN', 'HPN', 'SPI', 'MBS', 'LAN',\n",
       "       'TWF', 'MRY', 'SMX', 'ACV', 'BFL', 'CEC', 'CIC', 'PMD', 'EKO',\n",
       "       'IYK', 'OXR', 'IPL', 'PIH', 'CPR', 'BTM', 'HLN', 'BLI', 'CAK',\n",
       "       'RFD', 'COD', 'SLE', 'LWS', 'GRR', 'AVP', 'ABE', 'BIS', 'GSP',\n",
       "       'CDC', 'BMI', 'YKM', 'CLT', 'HNL', 'KOA', 'OGG', 'JFK', 'LIH',\n",
       "       'MDT', 'LGA', 'RIC', 'BOS', 'EGE', 'ROC', 'GSO', 'DCA', 'SJU',\n",
       "       'STT', 'MIA', 'ANC', 'MYR', 'STX', 'ILM', 'VPS', 'SRQ', 'PNS',\n",
       "       'DAB', 'CAE', 'GPT', 'MLB', 'PHF', 'MFE', 'SHV', 'MGM', 'PFN',\n",
       "       'CHA', 'FAY', 'AGS', 'MOB', 'BTR', 'BGR', 'GNV', 'ABY', 'DHN',\n",
       "       'AVL', 'EVV', 'FNT', 'TRI', 'OAJ', 'AEX', 'SWF', 'EWN', 'MEI',\n",
       "       'PWM', 'GRK', 'GTR', 'LFT', 'LYH', 'HHH', 'EYW', 'VLD', 'CSG',\n",
       "       'MLU', 'TLH', 'ACY', 'FSM', 'MCN', 'CHO', 'TOL', 'FLO', 'BQK',\n",
       "       'SCE', 'ITO', 'LAW', 'SPS', 'ABI', 'CLL', 'TYR', 'GGG', 'ACT',\n",
       "       'SJT', 'TXK', 'LRD', 'CMI', 'ROW', 'RST', 'MQT', 'LSE', 'DBQ',\n",
       "       'KTN', 'JNU', 'SIT', 'PSG', 'CDV', 'YAK', 'BET', 'BRW', 'SCC',\n",
       "       'FAI', 'ADQ', 'WRG', 'OME', 'OTZ', 'ADK', 'PSE', 'BQN', 'MKG',\n",
       "       'DLG', 'AKN', 'LWB', 'WYS'], dtype=object)"
      ]
     },
     "execution_count": 26,
     "metadata": {},
     "output_type": "execute_result"
    }
   ],
   "source": [
    "Airports_df['IATA_Code'].unique()"
   ]
  },
  {
   "cell_type": "code",
   "execution_count": 27,
   "metadata": {},
   "outputs": [
    {
     "data": {
      "text/plain": [
       "IATA_Code         0\n",
       "AirportName    2656\n",
       "dtype: int64"
      ]
     },
     "execution_count": 27,
     "metadata": {},
     "output_type": "execute_result"
    }
   ],
   "source": [
    "Airports_df.isnull().sum()"
   ]
  },
  {
   "cell_type": "code",
   "execution_count": 28,
   "metadata": {},
   "outputs": [
    {
     "data": {
      "text/plain": [
       "17166     MOD\n",
       "17169     MOD\n",
       "17170     MOD\n",
       "17622     MOD\n",
       "18049     MOD\n",
       "         ... \n",
       "945884    LYH\n",
       "945885    LYH\n",
       "945886    LYH\n",
       "945887    LYH\n",
       "945888    LYH\n",
       "Name: IATA_Code, Length: 2656, dtype: object"
      ]
     },
     "execution_count": 28,
     "metadata": {},
     "output_type": "execute_result"
    }
   ],
   "source": [
    "Airports_df[Airports_df['AirportName'].isnull()]['IATA_Code']"
   ]
  },
  {
   "cell_type": "code",
   "execution_count": 29,
   "metadata": {},
   "outputs": [],
   "source": [
    "airport_names = {\n",
    "    \"MOD\": \"Modesto City-County Airport\",\n",
    "    \"CIC\": \"Chico Regional Airport\",\n",
    "    \"PMD\": \"Palmdale Regional Airport\",\n",
    "    \"IYK\": \"Inyokern Airport\",\n",
    "    \"OXR\": \"Oxnard Airport\",\n",
    "    \"IPL\": \"Imperial County Airport\",\n",
    "    \"RFD\": \"Chicago Rockford International Airport\",\n",
    "    \"SLE\": \"McNary Field\",\n",
    "    \"YKM\": \"Yakima Air Terminal\",\n",
    "    \"PFN\": \"Panama City-Bay County International Airport\",\n",
    "    \"LYH\": \"Lynchburg Regional Airport\",\n",
    "    \"HHH\": \"Hilton Head Airport\",\n",
    "    \"MCN\": \"Middle Georgia Regional Airport\",\n",
    "    \"FLO\": \"Florence Regional Airport\",\n",
    "    \"LWB\": \"Greenbrier Valley Airport\"\n",
    "}"
   ]
  },
  {
   "cell_type": "code",
   "execution_count": 30,
   "metadata": {},
   "outputs": [],
   "source": [
    "Airports_df['AirportName'] = Airports_df['AirportName'].fillna(Airports_df[\"IATA_Code\"].map(airport_names))"
   ]
  },
  {
   "cell_type": "code",
   "execution_count": 31,
   "metadata": {},
   "outputs": [
    {
     "data": {
      "text/plain": [
       "IATA_Code      0\n",
       "AirportName    0\n",
       "dtype: int64"
      ]
     },
     "execution_count": 31,
     "metadata": {},
     "output_type": "execute_result"
    }
   ],
   "source": [
    "Airports_df.isnull().sum()"
   ]
  },
  {
   "cell_type": "code",
   "execution_count": 32,
   "metadata": {},
   "outputs": [
    {
     "data": {
      "text/html": [
       "<div>\n",
       "<style scoped>\n",
       "    .dataframe tbody tr th:only-of-type {\n",
       "        vertical-align: middle;\n",
       "    }\n",
       "\n",
       "    .dataframe tbody tr th {\n",
       "        vertical-align: top;\n",
       "    }\n",
       "\n",
       "    .dataframe thead th {\n",
       "        text-align: right;\n",
       "    }\n",
       "</style>\n",
       "<table border=\"1\" class=\"dataframe\">\n",
       "  <thead>\n",
       "    <tr style=\"text-align: right;\">\n",
       "      <th></th>\n",
       "      <th>IATA_Code</th>\n",
       "      <th>AirportName</th>\n",
       "    </tr>\n",
       "  </thead>\n",
       "  <tbody>\n",
       "    <tr>\n",
       "      <th>0</th>\n",
       "      <td>IND</td>\n",
       "      <td>Indianapolis International Airport</td>\n",
       "    </tr>\n",
       "    <tr>\n",
       "      <th>1</th>\n",
       "      <td>IND</td>\n",
       "      <td>Indianapolis International Airport</td>\n",
       "    </tr>\n",
       "    <tr>\n",
       "      <th>2</th>\n",
       "      <td>IND</td>\n",
       "      <td>Indianapolis International Airport</td>\n",
       "    </tr>\n",
       "    <tr>\n",
       "      <th>3</th>\n",
       "      <td>IND</td>\n",
       "      <td>Indianapolis International Airport</td>\n",
       "    </tr>\n",
       "    <tr>\n",
       "      <th>4</th>\n",
       "      <td>IND</td>\n",
       "      <td>Indianapolis International Airport</td>\n",
       "    </tr>\n",
       "    <tr>\n",
       "      <th>...</th>\n",
       "      <td>...</td>\n",
       "      <td>...</td>\n",
       "    </tr>\n",
       "    <tr>\n",
       "      <th>968197</th>\n",
       "      <td>IND</td>\n",
       "      <td>Indianapolis International Airport</td>\n",
       "    </tr>\n",
       "    <tr>\n",
       "      <th>968198</th>\n",
       "      <td>IND</td>\n",
       "      <td>Indianapolis International Airport</td>\n",
       "    </tr>\n",
       "    <tr>\n",
       "      <th>968199</th>\n",
       "      <td>IND</td>\n",
       "      <td>Indianapolis International Airport</td>\n",
       "    </tr>\n",
       "    <tr>\n",
       "      <th>968200</th>\n",
       "      <td>IND</td>\n",
       "      <td>Indianapolis International Airport</td>\n",
       "    </tr>\n",
       "    <tr>\n",
       "      <th>968201</th>\n",
       "      <td>IND</td>\n",
       "      <td>Indianapolis International Airport</td>\n",
       "    </tr>\n",
       "  </tbody>\n",
       "</table>\n",
       "<p>4018 rows × 2 columns</p>\n",
       "</div>"
      ],
      "text/plain": [
       "       IATA_Code                         AirportName\n",
       "0            IND  Indianapolis International Airport\n",
       "1            IND  Indianapolis International Airport\n",
       "2            IND  Indianapolis International Airport\n",
       "3            IND  Indianapolis International Airport\n",
       "4            IND  Indianapolis International Airport\n",
       "...          ...                                 ...\n",
       "968197       IND  Indianapolis International Airport\n",
       "968198       IND  Indianapolis International Airport\n",
       "968199       IND  Indianapolis International Airport\n",
       "968200       IND  Indianapolis International Airport\n",
       "968201       IND  Indianapolis International Airport\n",
       "\n",
       "[4018 rows x 2 columns]"
      ]
     },
     "execution_count": 32,
     "metadata": {},
     "output_type": "execute_result"
    }
   ],
   "source": [
    "Airports_df.loc[Airports_df['IATA_Code']=='IND']"
   ]
  },
  {
   "cell_type": "code",
   "execution_count": 33,
   "metadata": {},
   "outputs": [
    {
     "data": {
      "text/html": [
       "<div>\n",
       "<style scoped>\n",
       "    .dataframe tbody tr th:only-of-type {\n",
       "        vertical-align: middle;\n",
       "    }\n",
       "\n",
       "    .dataframe tbody tr th {\n",
       "        vertical-align: top;\n",
       "    }\n",
       "\n",
       "    .dataframe thead th {\n",
       "        text-align: right;\n",
       "    }\n",
       "</style>\n",
       "<table border=\"1\" class=\"dataframe\">\n",
       "  <thead>\n",
       "    <tr style=\"text-align: right;\">\n",
       "      <th></th>\n",
       "      <th>IATA_Code</th>\n",
       "      <th>AirportName</th>\n",
       "    </tr>\n",
       "  </thead>\n",
       "  <tbody>\n",
       "    <tr>\n",
       "      <th>1269</th>\n",
       "      <td>HRL</td>\n",
       "      <td>Valley International Airport</td>\n",
       "    </tr>\n",
       "    <tr>\n",
       "      <th>2323</th>\n",
       "      <td>HRL</td>\n",
       "      <td>Valley International Airport</td>\n",
       "    </tr>\n",
       "    <tr>\n",
       "      <th>2324</th>\n",
       "      <td>HRL</td>\n",
       "      <td>Valley International Airport</td>\n",
       "    </tr>\n",
       "    <tr>\n",
       "      <th>3336</th>\n",
       "      <td>HRL</td>\n",
       "      <td>Valley International Airport</td>\n",
       "    </tr>\n",
       "    <tr>\n",
       "      <th>3337</th>\n",
       "      <td>HRL</td>\n",
       "      <td>Valley International Airport</td>\n",
       "    </tr>\n",
       "    <tr>\n",
       "      <th>...</th>\n",
       "      <td>...</td>\n",
       "      <td>...</td>\n",
       "    </tr>\n",
       "    <tr>\n",
       "      <th>908490</th>\n",
       "      <td>HRL</td>\n",
       "      <td>Valley International Airport</td>\n",
       "    </tr>\n",
       "    <tr>\n",
       "      <th>908858</th>\n",
       "      <td>HRL</td>\n",
       "      <td>Valley International Airport</td>\n",
       "    </tr>\n",
       "    <tr>\n",
       "      <th>910092</th>\n",
       "      <td>HRL</td>\n",
       "      <td>Valley International Airport</td>\n",
       "    </tr>\n",
       "    <tr>\n",
       "      <th>910093</th>\n",
       "      <td>HRL</td>\n",
       "      <td>Valley International Airport</td>\n",
       "    </tr>\n",
       "    <tr>\n",
       "      <th>938037</th>\n",
       "      <td>HRL</td>\n",
       "      <td>Valley International Airport</td>\n",
       "    </tr>\n",
       "  </tbody>\n",
       "</table>\n",
       "<p>1004 rows × 2 columns</p>\n",
       "</div>"
      ],
      "text/plain": [
       "       IATA_Code                   AirportName\n",
       "1269         HRL  Valley International Airport\n",
       "2323         HRL  Valley International Airport\n",
       "2324         HRL  Valley International Airport\n",
       "3336         HRL  Valley International Airport\n",
       "3337         HRL  Valley International Airport\n",
       "...          ...                           ...\n",
       "908490       HRL  Valley International Airport\n",
       "908858       HRL  Valley International Airport\n",
       "910092       HRL  Valley International Airport\n",
       "910093       HRL  Valley International Airport\n",
       "938037       HRL  Valley International Airport\n",
       "\n",
       "[1004 rows x 2 columns]"
      ]
     },
     "execution_count": 33,
     "metadata": {},
     "output_type": "execute_result"
    }
   ],
   "source": [
    "Airports_df.loc[Airports_df['IATA_Code']=='HRL']"
   ]
  },
  {
   "cell_type": "code",
   "execution_count": 34,
   "metadata": {},
   "outputs": [
    {
     "data": {
      "text/plain": [
       "np.int64(968828)"
      ]
     },
     "execution_count": 34,
     "metadata": {},
     "output_type": "execute_result"
    }
   ],
   "source": [
    "Airports_df.duplicated().sum()"
   ]
  },
  {
   "cell_type": "code",
   "execution_count": 35,
   "metadata": {},
   "outputs": [
    {
     "data": {
      "text/plain": [
       "IATA_Code      274\n",
       "AirportName    274\n",
       "dtype: int64"
      ]
     },
     "execution_count": 35,
     "metadata": {},
     "output_type": "execute_result"
    }
   ],
   "source": [
    "Airports_df.nunique()"
   ]
  },
  {
   "cell_type": "code",
   "execution_count": 36,
   "metadata": {},
   "outputs": [],
   "source": [
    "Airports_df.drop_duplicates(inplace=True)"
   ]
  },
  {
   "cell_type": "code",
   "execution_count": 37,
   "metadata": {},
   "outputs": [
    {
     "data": {
      "text/plain": [
       "np.int64(0)"
      ]
     },
     "execution_count": 37,
     "metadata": {},
     "output_type": "execute_result"
    }
   ],
   "source": [
    "Airports_df.duplicated().sum()"
   ]
  },
  {
   "cell_type": "code",
   "execution_count": 38,
   "metadata": {},
   "outputs": [
    {
     "data": {
      "text/html": [
       "<div>\n",
       "<style scoped>\n",
       "    .dataframe tbody tr th:only-of-type {\n",
       "        vertical-align: middle;\n",
       "    }\n",
       "\n",
       "    .dataframe tbody tr th {\n",
       "        vertical-align: top;\n",
       "    }\n",
       "\n",
       "    .dataframe thead th {\n",
       "        text-align: right;\n",
       "    }\n",
       "</style>\n",
       "<table border=\"1\" class=\"dataframe\">\n",
       "  <thead>\n",
       "    <tr style=\"text-align: right;\">\n",
       "      <th></th>\n",
       "      <th>IATA_Code</th>\n",
       "      <th>AirportName</th>\n",
       "    </tr>\n",
       "  </thead>\n",
       "  <tbody>\n",
       "    <tr>\n",
       "      <th>0</th>\n",
       "      <td>IND</td>\n",
       "      <td>Indianapolis International Airport</td>\n",
       "    </tr>\n",
       "  </tbody>\n",
       "</table>\n",
       "</div>"
      ],
      "text/plain": [
       "  IATA_Code                         AirportName\n",
       "0       IND  Indianapolis International Airport"
      ]
     },
     "execution_count": 38,
     "metadata": {},
     "output_type": "execute_result"
    }
   ],
   "source": [
    "Airports_df.loc[Airports_df['IATA_Code']=='IND']"
   ]
  },
  {
   "cell_type": "code",
   "execution_count": 39,
   "metadata": {},
   "outputs": [
    {
     "data": {
      "text/html": [
       "<div>\n",
       "<style scoped>\n",
       "    .dataframe tbody tr th:only-of-type {\n",
       "        vertical-align: middle;\n",
       "    }\n",
       "\n",
       "    .dataframe tbody tr th {\n",
       "        vertical-align: top;\n",
       "    }\n",
       "\n",
       "    .dataframe thead th {\n",
       "        text-align: right;\n",
       "    }\n",
       "</style>\n",
       "<table border=\"1\" class=\"dataframe\">\n",
       "  <thead>\n",
       "    <tr style=\"text-align: right;\">\n",
       "      <th></th>\n",
       "      <th>IATA_Code</th>\n",
       "      <th>AirportName</th>\n",
       "    </tr>\n",
       "  </thead>\n",
       "  <tbody>\n",
       "    <tr>\n",
       "      <th>1269</th>\n",
       "      <td>HRL</td>\n",
       "      <td>Valley International Airport</td>\n",
       "    </tr>\n",
       "  </tbody>\n",
       "</table>\n",
       "</div>"
      ],
      "text/plain": [
       "     IATA_Code                   AirportName\n",
       "1269       HRL  Valley International Airport"
      ]
     },
     "execution_count": 39,
     "metadata": {},
     "output_type": "execute_result"
    }
   ],
   "source": [
    "Airports_df.loc[Airports_df['IATA_Code']=='HRL']"
   ]
  },
  {
   "cell_type": "code",
   "execution_count": 40,
   "metadata": {},
   "outputs": [
    {
     "data": {
      "text/html": [
       "<div>\n",
       "<style scoped>\n",
       "    .dataframe tbody tr th:only-of-type {\n",
       "        vertical-align: middle;\n",
       "    }\n",
       "\n",
       "    .dataframe tbody tr th {\n",
       "        vertical-align: top;\n",
       "    }\n",
       "\n",
       "    .dataframe thead th {\n",
       "        text-align: right;\n",
       "    }\n",
       "</style>\n",
       "<table border=\"1\" class=\"dataframe\">\n",
       "  <thead>\n",
       "    <tr style=\"text-align: right;\">\n",
       "      <th></th>\n",
       "      <th>IATA_Code</th>\n",
       "      <th>AirportName</th>\n",
       "    </tr>\n",
       "  </thead>\n",
       "  <tbody>\n",
       "    <tr>\n",
       "      <th>52433</th>\n",
       "      <td>HHH</td>\n",
       "      <td>Hilton Head Airport</td>\n",
       "    </tr>\n",
       "  </tbody>\n",
       "</table>\n",
       "</div>"
      ],
      "text/plain": [
       "      IATA_Code          AirportName\n",
       "52433       HHH  Hilton Head Airport"
      ]
     },
     "execution_count": 40,
     "metadata": {},
     "output_type": "execute_result"
    }
   ],
   "source": [
    "Airports_df.loc[Airports_df['IATA_Code']=='HHH']"
   ]
  },
  {
   "cell_type": "code",
   "execution_count": 41,
   "metadata": {},
   "outputs": [
    {
     "data": {
      "text/plain": [
       "Index(['GKA', 'AYGA', '-6.081689834590001', '145.391998291'], dtype='object')"
      ]
     },
     "execution_count": 41,
     "metadata": {},
     "output_type": "execute_result"
    }
   ],
   "source": [
    "Airports_GeoLocation.columns"
   ]
  },
  {
   "cell_type": "code",
   "execution_count": 42,
   "metadata": {},
   "outputs": [
    {
     "data": {
      "text/plain": [
       "Index(['IATA_Code', 'AirportName'], dtype='object')"
      ]
     },
     "execution_count": 42,
     "metadata": {},
     "output_type": "execute_result"
    }
   ],
   "source": [
    "Airports_df.columns"
   ]
  },
  {
   "cell_type": "code",
   "execution_count": 43,
   "metadata": {},
   "outputs": [],
   "source": [
    "Airports_GeoLocation=Airports_GeoLocation.rename(columns={'GKA':'IATA_Code','AYGA':'Location_Indicator','-6.081689834590001':'Latitude','145.391998291':'Longitude'})"
   ]
  },
  {
   "cell_type": "code",
   "execution_count": 44,
   "metadata": {},
   "outputs": [
    {
     "data": {
      "text/plain": [
       "Index(['IATA_Code', 'Location_Indicator', 'Latitude', 'Longitude'], dtype='object')"
      ]
     },
     "execution_count": 44,
     "metadata": {},
     "output_type": "execute_result"
    }
   ],
   "source": [
    "Airports_GeoLocation.columns"
   ]
  },
  {
   "cell_type": "code",
   "execution_count": 45,
   "metadata": {},
   "outputs": [
    {
     "data": {
      "text/plain": [
       "IATA_Code      274\n",
       "AirportName    274\n",
       "dtype: int64"
      ]
     },
     "execution_count": 45,
     "metadata": {},
     "output_type": "execute_result"
    }
   ],
   "source": [
    "Airports_df.nunique()"
   ]
  },
  {
   "cell_type": "code",
   "execution_count": 46,
   "metadata": {},
   "outputs": [],
   "source": [
    "Airports_df=Airports_df.merge(Airports_GeoLocation,on='IATA_Code',how='left')"
   ]
  },
  {
   "cell_type": "code",
   "execution_count": 47,
   "metadata": {},
   "outputs": [
    {
     "data": {
      "text/plain": [
       "Index(['IATA_Code', 'AirportName', 'Location_Indicator', 'Latitude',\n",
       "       'Longitude'],\n",
       "      dtype='object')"
      ]
     },
     "execution_count": 47,
     "metadata": {},
     "output_type": "execute_result"
    }
   ],
   "source": [
    "Airports_df.columns"
   ]
  },
  {
   "cell_type": "code",
   "execution_count": 48,
   "metadata": {},
   "outputs": [
    {
     "data": {
      "text/html": [
       "<div>\n",
       "<style scoped>\n",
       "    .dataframe tbody tr th:only-of-type {\n",
       "        vertical-align: middle;\n",
       "    }\n",
       "\n",
       "    .dataframe tbody tr th {\n",
       "        vertical-align: top;\n",
       "    }\n",
       "\n",
       "    .dataframe thead th {\n",
       "        text-align: right;\n",
       "    }\n",
       "</style>\n",
       "<table border=\"1\" class=\"dataframe\">\n",
       "  <thead>\n",
       "    <tr style=\"text-align: right;\">\n",
       "      <th></th>\n",
       "      <th>IATA_Code</th>\n",
       "      <th>AirportName</th>\n",
       "      <th>Location_Indicator</th>\n",
       "      <th>Latitude</th>\n",
       "      <th>Longitude</th>\n",
       "    </tr>\n",
       "  </thead>\n",
       "  <tbody>\n",
       "    <tr>\n",
       "      <th>0</th>\n",
       "      <td>IND</td>\n",
       "      <td>Indianapolis International Airport</td>\n",
       "      <td>KIND</td>\n",
       "      <td>39.717300</td>\n",
       "      <td>-86.294403</td>\n",
       "    </tr>\n",
       "    <tr>\n",
       "      <th>1</th>\n",
       "      <td>ISP</td>\n",
       "      <td>Long Island MacArthur Airport</td>\n",
       "      <td>KISP</td>\n",
       "      <td>40.795200</td>\n",
       "      <td>-73.100197</td>\n",
       "    </tr>\n",
       "    <tr>\n",
       "      <th>2</th>\n",
       "      <td>JAN</td>\n",
       "      <td>Jackson-Evers International Airport</td>\n",
       "      <td>KJAN</td>\n",
       "      <td>32.311199</td>\n",
       "      <td>-90.075897</td>\n",
       "    </tr>\n",
       "    <tr>\n",
       "      <th>3</th>\n",
       "      <td>JAX</td>\n",
       "      <td>Jacksonville International Airport</td>\n",
       "      <td>KJAX</td>\n",
       "      <td>30.494101</td>\n",
       "      <td>-81.687897</td>\n",
       "    </tr>\n",
       "    <tr>\n",
       "      <th>4</th>\n",
       "      <td>LAS</td>\n",
       "      <td>McCarran International Airport</td>\n",
       "      <td>KLAS</td>\n",
       "      <td>36.080101</td>\n",
       "      <td>-115.152000</td>\n",
       "    </tr>\n",
       "  </tbody>\n",
       "</table>\n",
       "</div>"
      ],
      "text/plain": [
       "  IATA_Code                          AirportName Location_Indicator  \\\n",
       "0       IND   Indianapolis International Airport               KIND   \n",
       "1       ISP        Long Island MacArthur Airport               KISP   \n",
       "2       JAN  Jackson-Evers International Airport               KJAN   \n",
       "3       JAX   Jacksonville International Airport               KJAX   \n",
       "4       LAS       McCarran International Airport               KLAS   \n",
       "\n",
       "    Latitude   Longitude  \n",
       "0  39.717300  -86.294403  \n",
       "1  40.795200  -73.100197  \n",
       "2  32.311199  -90.075897  \n",
       "3  30.494101  -81.687897  \n",
       "4  36.080101 -115.152000  "
      ]
     },
     "execution_count": 48,
     "metadata": {},
     "output_type": "execute_result"
    }
   ],
   "source": [
    "Airports_df.head()"
   ]
  },
  {
   "cell_type": "code",
   "execution_count": 49,
   "metadata": {},
   "outputs": [
    {
     "data": {
      "text/plain": [
       "IATA_Code             274\n",
       "AirportName           274\n",
       "Location_Indicator    274\n",
       "Latitude              274\n",
       "Longitude             274\n",
       "dtype: int64"
      ]
     },
     "execution_count": 49,
     "metadata": {},
     "output_type": "execute_result"
    }
   ],
   "source": [
    "Airports_df.nunique()"
   ]
  },
  {
   "cell_type": "code",
   "execution_count": 50,
   "metadata": {},
   "outputs": [
    {
     "data": {
      "text/plain": [
       "np.int64(0)"
      ]
     },
     "execution_count": 50,
     "metadata": {},
     "output_type": "execute_result"
    }
   ],
   "source": [
    "Airports_df['Location_Indicator'].isnull().sum()"
   ]
  },
  {
   "cell_type": "code",
   "execution_count": 51,
   "metadata": {},
   "outputs": [],
   "source": [
    "Airports_df.to_csv(r\"C:\\Users\\DELL\\Downloads\\Flight Delay Project\\Tables_CSV_Files\\Airports_Data.CSV\",index=False)"
   ]
  },
  {
   "cell_type": "code",
   "execution_count": 52,
   "metadata": {},
   "outputs": [
    {
     "data": {
      "text/plain": [
       "Index(['FlightID', 'DayOfWeek', 'Date', 'ACT_DepTime', 'ACT_ArrTime',\n",
       "       'Scheduled_ArrTime', 'UniqueCarrier', 'Airline', 'FlightNum', 'TailNum',\n",
       "       'ActualElapsedTime', 'CRSElapsedTime', 'AirTime', 'ArrDelay',\n",
       "       'DepDelay', 'Origin_IATA_Code', 'Dep_Airport', 'Dest_IATA_Code',\n",
       "       'Dest_Airport', 'Distance', 'TaxiIn', 'TaxiOut', 'Cancelled',\n",
       "       'CancellationCode', 'Diverted', 'CarrierDelay', 'WeatherDelay',\n",
       "       'NASDelay', 'SecurityDelay', 'LateAircraftDelay'],\n",
       "      dtype='object')"
      ]
     },
     "execution_count": 52,
     "metadata": {},
     "output_type": "execute_result"
    }
   ],
   "source": [
    "df.columns"
   ]
  },
  {
   "cell_type": "code",
   "execution_count": 53,
   "metadata": {},
   "outputs": [
    {
     "data": {
      "text/plain": [
       "np.int64(484539)"
      ]
     },
     "execution_count": 53,
     "metadata": {},
     "output_type": "execute_result"
    }
   ],
   "source": [
    "df[['UniqueCarrier','Airline']].duplicated().sum()"
   ]
  },
  {
   "cell_type": "code",
   "execution_count": 54,
   "metadata": {},
   "outputs": [
    {
     "data": {
      "text/plain": [
       "np.int64(484539)"
      ]
     },
     "execution_count": 54,
     "metadata": {},
     "output_type": "execute_result"
    }
   ],
   "source": [
    "df['UniqueCarrier'].duplicated().sum()"
   ]
  },
  {
   "cell_type": "code",
   "execution_count": 55,
   "metadata": {},
   "outputs": [
    {
     "data": {
      "text/plain": [
       "np.int64(484539)"
      ]
     },
     "execution_count": 55,
     "metadata": {},
     "output_type": "execute_result"
    }
   ],
   "source": [
    "df['Airline'].duplicated().sum()"
   ]
  },
  {
   "cell_type": "code",
   "execution_count": 56,
   "metadata": {},
   "outputs": [
    {
     "data": {
      "text/plain": [
       "UniqueCarrier    12\n",
       "Airline          12\n",
       "dtype: int64"
      ]
     },
     "execution_count": 56,
     "metadata": {},
     "output_type": "execute_result"
    }
   ],
   "source": [
    "df[['UniqueCarrier','Airline']].nunique()"
   ]
  },
  {
   "cell_type": "markdown",
   "metadata": {},
   "source": [
    "# Airlines Table"
   ]
  },
  {
   "cell_type": "code",
   "execution_count": 57,
   "metadata": {},
   "outputs": [],
   "source": [
    "Airlines_df=df[['UniqueCarrier','Airline']].copy()"
   ]
  },
  {
   "cell_type": "code",
   "execution_count": 58,
   "metadata": {},
   "outputs": [
    {
     "data": {
      "text/html": [
       "<div>\n",
       "<style scoped>\n",
       "    .dataframe tbody tr th:only-of-type {\n",
       "        vertical-align: middle;\n",
       "    }\n",
       "\n",
       "    .dataframe tbody tr th {\n",
       "        vertical-align: top;\n",
       "    }\n",
       "\n",
       "    .dataframe thead th {\n",
       "        text-align: right;\n",
       "    }\n",
       "</style>\n",
       "<table border=\"1\" class=\"dataframe\">\n",
       "  <thead>\n",
       "    <tr style=\"text-align: right;\">\n",
       "      <th></th>\n",
       "      <th>UniqueCarrier</th>\n",
       "      <th>Airline</th>\n",
       "    </tr>\n",
       "  </thead>\n",
       "  <tbody>\n",
       "    <tr>\n",
       "      <th>0</th>\n",
       "      <td>WN</td>\n",
       "      <td>Southwest Airlines Co.</td>\n",
       "    </tr>\n",
       "    <tr>\n",
       "      <th>1</th>\n",
       "      <td>WN</td>\n",
       "      <td>Southwest Airlines Co.</td>\n",
       "    </tr>\n",
       "    <tr>\n",
       "      <th>2</th>\n",
       "      <td>WN</td>\n",
       "      <td>Southwest Airlines Co.</td>\n",
       "    </tr>\n",
       "    <tr>\n",
       "      <th>3</th>\n",
       "      <td>WN</td>\n",
       "      <td>Southwest Airlines Co.</td>\n",
       "    </tr>\n",
       "    <tr>\n",
       "      <th>4</th>\n",
       "      <td>WN</td>\n",
       "      <td>Southwest Airlines Co.</td>\n",
       "    </tr>\n",
       "  </tbody>\n",
       "</table>\n",
       "</div>"
      ],
      "text/plain": [
       "  UniqueCarrier                 Airline\n",
       "0            WN  Southwest Airlines Co.\n",
       "1            WN  Southwest Airlines Co.\n",
       "2            WN  Southwest Airlines Co.\n",
       "3            WN  Southwest Airlines Co.\n",
       "4            WN  Southwest Airlines Co."
      ]
     },
     "execution_count": 58,
     "metadata": {},
     "output_type": "execute_result"
    }
   ],
   "source": [
    "Airlines_df.head()"
   ]
  },
  {
   "cell_type": "code",
   "execution_count": 59,
   "metadata": {},
   "outputs": [
    {
     "data": {
      "text/plain": [
       "UniqueCarrier    0\n",
       "Airline          0\n",
       "dtype: int64"
      ]
     },
     "execution_count": 59,
     "metadata": {},
     "output_type": "execute_result"
    }
   ],
   "source": [
    "Airlines_df.isnull().sum()"
   ]
  },
  {
   "cell_type": "code",
   "execution_count": 60,
   "metadata": {},
   "outputs": [
    {
     "data": {
      "text/plain": [
       "np.int64(484539)"
      ]
     },
     "execution_count": 60,
     "metadata": {},
     "output_type": "execute_result"
    }
   ],
   "source": [
    "Airlines_df.duplicated().sum()"
   ]
  },
  {
   "cell_type": "code",
   "execution_count": 61,
   "metadata": {},
   "outputs": [
    {
     "data": {
      "text/plain": [
       "UniqueCarrier    12\n",
       "Airline          12\n",
       "dtype: int64"
      ]
     },
     "execution_count": 61,
     "metadata": {},
     "output_type": "execute_result"
    }
   ],
   "source": [
    "Airlines_df[['UniqueCarrier','Airline']].nunique()"
   ]
  },
  {
   "cell_type": "code",
   "execution_count": 62,
   "metadata": {},
   "outputs": [],
   "source": [
    "Airlines_df.drop_duplicates(inplace=True)"
   ]
  },
  {
   "cell_type": "code",
   "execution_count": 63,
   "metadata": {},
   "outputs": [
    {
     "data": {
      "text/plain": [
       "np.int64(0)"
      ]
     },
     "execution_count": 63,
     "metadata": {},
     "output_type": "execute_result"
    }
   ],
   "source": [
    "Airlines_df.duplicated().sum()"
   ]
  },
  {
   "cell_type": "code",
   "execution_count": 64,
   "metadata": {},
   "outputs": [],
   "source": [
    "Airlines_df['CarrierID']=range(len(Airlines_df))"
   ]
  },
  {
   "cell_type": "code",
   "execution_count": 65,
   "metadata": {},
   "outputs": [
    {
     "data": {
      "text/html": [
       "<div>\n",
       "<style scoped>\n",
       "    .dataframe tbody tr th:only-of-type {\n",
       "        vertical-align: middle;\n",
       "    }\n",
       "\n",
       "    .dataframe tbody tr th {\n",
       "        vertical-align: top;\n",
       "    }\n",
       "\n",
       "    .dataframe thead th {\n",
       "        text-align: right;\n",
       "    }\n",
       "</style>\n",
       "<table border=\"1\" class=\"dataframe\">\n",
       "  <thead>\n",
       "    <tr style=\"text-align: right;\">\n",
       "      <th></th>\n",
       "      <th>UniqueCarrier</th>\n",
       "      <th>Airline</th>\n",
       "      <th>CarrierID</th>\n",
       "    </tr>\n",
       "  </thead>\n",
       "  <tbody>\n",
       "    <tr>\n",
       "      <th>0</th>\n",
       "      <td>WN</td>\n",
       "      <td>Southwest Airlines Co.</td>\n",
       "      <td>0</td>\n",
       "    </tr>\n",
       "    <tr>\n",
       "      <th>17018</th>\n",
       "      <td>OO</td>\n",
       "      <td>Skywest Airlines Inc.</td>\n",
       "      <td>1</td>\n",
       "    </tr>\n",
       "    <tr>\n",
       "      <th>28832</th>\n",
       "      <td>UA</td>\n",
       "      <td>United Air Lines Inc.</td>\n",
       "      <td>2</td>\n",
       "    </tr>\n",
       "    <tr>\n",
       "      <th>39693</th>\n",
       "      <td>US</td>\n",
       "      <td>US Airways Inc.</td>\n",
       "      <td>3</td>\n",
       "    </tr>\n",
       "    <tr>\n",
       "      <th>48002</th>\n",
       "      <td>DL</td>\n",
       "      <td>Delta Air Lines Inc.</td>\n",
       "      <td>4</td>\n",
       "    </tr>\n",
       "  </tbody>\n",
       "</table>\n",
       "</div>"
      ],
      "text/plain": [
       "      UniqueCarrier                 Airline  CarrierID\n",
       "0                WN  Southwest Airlines Co.          0\n",
       "17018            OO   Skywest Airlines Inc.          1\n",
       "28832            UA   United Air Lines Inc.          2\n",
       "39693            US         US Airways Inc.          3\n",
       "48002            DL    Delta Air Lines Inc.          4"
      ]
     },
     "execution_count": 65,
     "metadata": {},
     "output_type": "execute_result"
    }
   ],
   "source": [
    "Airlines_df.head()"
   ]
  },
  {
   "cell_type": "code",
   "execution_count": 66,
   "metadata": {},
   "outputs": [],
   "source": [
    "Airlines_df=Airlines_df[['CarrierID','UniqueCarrier','Airline']]"
   ]
  },
  {
   "cell_type": "code",
   "execution_count": 67,
   "metadata": {},
   "outputs": [
    {
     "data": {
      "text/html": [
       "<div>\n",
       "<style scoped>\n",
       "    .dataframe tbody tr th:only-of-type {\n",
       "        vertical-align: middle;\n",
       "    }\n",
       "\n",
       "    .dataframe tbody tr th {\n",
       "        vertical-align: top;\n",
       "    }\n",
       "\n",
       "    .dataframe thead th {\n",
       "        text-align: right;\n",
       "    }\n",
       "</style>\n",
       "<table border=\"1\" class=\"dataframe\">\n",
       "  <thead>\n",
       "    <tr style=\"text-align: right;\">\n",
       "      <th></th>\n",
       "      <th>CarrierID</th>\n",
       "      <th>UniqueCarrier</th>\n",
       "      <th>Airline</th>\n",
       "    </tr>\n",
       "  </thead>\n",
       "  <tbody>\n",
       "    <tr>\n",
       "      <th>0</th>\n",
       "      <td>0</td>\n",
       "      <td>WN</td>\n",
       "      <td>Southwest Airlines Co.</td>\n",
       "    </tr>\n",
       "    <tr>\n",
       "      <th>17018</th>\n",
       "      <td>1</td>\n",
       "      <td>OO</td>\n",
       "      <td>Skywest Airlines Inc.</td>\n",
       "    </tr>\n",
       "    <tr>\n",
       "      <th>28832</th>\n",
       "      <td>2</td>\n",
       "      <td>UA</td>\n",
       "      <td>United Air Lines Inc.</td>\n",
       "    </tr>\n",
       "    <tr>\n",
       "      <th>39693</th>\n",
       "      <td>3</td>\n",
       "      <td>US</td>\n",
       "      <td>US Airways Inc.</td>\n",
       "    </tr>\n",
       "    <tr>\n",
       "      <th>48002</th>\n",
       "      <td>4</td>\n",
       "      <td>DL</td>\n",
       "      <td>Delta Air Lines Inc.</td>\n",
       "    </tr>\n",
       "  </tbody>\n",
       "</table>\n",
       "</div>"
      ],
      "text/plain": [
       "       CarrierID UniqueCarrier                 Airline\n",
       "0              0            WN  Southwest Airlines Co.\n",
       "17018          1            OO   Skywest Airlines Inc.\n",
       "28832          2            UA   United Air Lines Inc.\n",
       "39693          3            US         US Airways Inc.\n",
       "48002          4            DL    Delta Air Lines Inc."
      ]
     },
     "execution_count": 67,
     "metadata": {},
     "output_type": "execute_result"
    }
   ],
   "source": [
    "Airlines_df.head()"
   ]
  },
  {
   "cell_type": "code",
   "execution_count": 68,
   "metadata": {},
   "outputs": [],
   "source": [
    "Airlines_df.to_csv(r\"C:\\Users\\DELL\\Downloads\\Flight Delay Project\\Tables_CSV_Files\\Airlines_Data.CSV\",index=False)"
   ]
  },
  {
   "cell_type": "code",
   "execution_count": 69,
   "metadata": {},
   "outputs": [
    {
     "data": {
      "text/plain": [
       "Index(['FlightID', 'DayOfWeek', 'Date', 'ACT_DepTime', 'ACT_ArrTime',\n",
       "       'Scheduled_ArrTime', 'UniqueCarrier', 'Airline', 'FlightNum', 'TailNum',\n",
       "       'ActualElapsedTime', 'CRSElapsedTime', 'AirTime', 'ArrDelay',\n",
       "       'DepDelay', 'Origin_IATA_Code', 'Dep_Airport', 'Dest_IATA_Code',\n",
       "       'Dest_Airport', 'Distance', 'TaxiIn', 'TaxiOut', 'Cancelled',\n",
       "       'CancellationCode', 'Diverted', 'CarrierDelay', 'WeatherDelay',\n",
       "       'NASDelay', 'SecurityDelay', 'LateAircraftDelay'],\n",
       "      dtype='object')"
      ]
     },
     "execution_count": 69,
     "metadata": {},
     "output_type": "execute_result"
    }
   ],
   "source": [
    "df.columns"
   ]
  },
  {
   "cell_type": "markdown",
   "metadata": {},
   "source": [
    "# Aircrafts Table"
   ]
  },
  {
   "cell_type": "code",
   "execution_count": 70,
   "metadata": {},
   "outputs": [],
   "source": [
    "Aircraft_df=df[['TailNum','Airline']].copy()"
   ]
  },
  {
   "cell_type": "code",
   "execution_count": 71,
   "metadata": {},
   "outputs": [
    {
     "data": {
      "text/html": [
       "<div>\n",
       "<style scoped>\n",
       "    .dataframe tbody tr th:only-of-type {\n",
       "        vertical-align: middle;\n",
       "    }\n",
       "\n",
       "    .dataframe tbody tr th {\n",
       "        vertical-align: top;\n",
       "    }\n",
       "\n",
       "    .dataframe thead th {\n",
       "        text-align: right;\n",
       "    }\n",
       "</style>\n",
       "<table border=\"1\" class=\"dataframe\">\n",
       "  <thead>\n",
       "    <tr style=\"text-align: right;\">\n",
       "      <th></th>\n",
       "      <th>TailNum</th>\n",
       "      <th>Airline</th>\n",
       "    </tr>\n",
       "  </thead>\n",
       "  <tbody>\n",
       "    <tr>\n",
       "      <th>0</th>\n",
       "      <td>N464WN</td>\n",
       "      <td>Southwest Airlines Co.</td>\n",
       "    </tr>\n",
       "    <tr>\n",
       "      <th>1</th>\n",
       "      <td>N763SW</td>\n",
       "      <td>Southwest Airlines Co.</td>\n",
       "    </tr>\n",
       "    <tr>\n",
       "      <th>2</th>\n",
       "      <td>N334SW</td>\n",
       "      <td>Southwest Airlines Co.</td>\n",
       "    </tr>\n",
       "    <tr>\n",
       "      <th>3</th>\n",
       "      <td>N286WN</td>\n",
       "      <td>Southwest Airlines Co.</td>\n",
       "    </tr>\n",
       "    <tr>\n",
       "      <th>4</th>\n",
       "      <td>N674AA</td>\n",
       "      <td>Southwest Airlines Co.</td>\n",
       "    </tr>\n",
       "  </tbody>\n",
       "</table>\n",
       "</div>"
      ],
      "text/plain": [
       "  TailNum                 Airline\n",
       "0  N464WN  Southwest Airlines Co.\n",
       "1  N763SW  Southwest Airlines Co.\n",
       "2  N334SW  Southwest Airlines Co.\n",
       "3  N286WN  Southwest Airlines Co.\n",
       "4  N674AA  Southwest Airlines Co."
      ]
     },
     "execution_count": 71,
     "metadata": {},
     "output_type": "execute_result"
    }
   ],
   "source": [
    "Aircraft_df.head()"
   ]
  },
  {
   "cell_type": "code",
   "execution_count": 72,
   "metadata": {},
   "outputs": [
    {
     "data": {
      "text/plain": [
       "np.int64(481039)"
      ]
     },
     "execution_count": 72,
     "metadata": {},
     "output_type": "execute_result"
    }
   ],
   "source": [
    "Aircraft_df.duplicated().sum()"
   ]
  },
  {
   "cell_type": "code",
   "execution_count": 73,
   "metadata": {},
   "outputs": [
    {
     "data": {
      "text/plain": [
       "TailNum    3512\n",
       "Airline      12\n",
       "dtype: int64"
      ]
     },
     "execution_count": 73,
     "metadata": {},
     "output_type": "execute_result"
    }
   ],
   "source": [
    "Aircraft_df.nunique()"
   ]
  },
  {
   "cell_type": "code",
   "execution_count": 74,
   "metadata": {},
   "outputs": [
    {
     "data": {
      "text/html": [
       "<div>\n",
       "<style scoped>\n",
       "    .dataframe tbody tr th:only-of-type {\n",
       "        vertical-align: middle;\n",
       "    }\n",
       "\n",
       "    .dataframe tbody tr th {\n",
       "        vertical-align: top;\n",
       "    }\n",
       "\n",
       "    .dataframe thead th {\n",
       "        text-align: right;\n",
       "    }\n",
       "</style>\n",
       "<table border=\"1\" class=\"dataframe\">\n",
       "  <thead>\n",
       "    <tr style=\"text-align: right;\">\n",
       "      <th></th>\n",
       "      <th>Airline</th>\n",
       "      <th>TailNum</th>\n",
       "    </tr>\n",
       "  </thead>\n",
       "  <tbody>\n",
       "    <tr>\n",
       "      <th>0</th>\n",
       "      <td>Alaska Airlines Inc.</td>\n",
       "      <td>120</td>\n",
       "    </tr>\n",
       "    <tr>\n",
       "      <th>1</th>\n",
       "      <td>American Airlines Inc.</td>\n",
       "      <td>655</td>\n",
       "    </tr>\n",
       "    <tr>\n",
       "      <th>2</th>\n",
       "      <td>American Eagle Airlines Inc.</td>\n",
       "      <td>259</td>\n",
       "    </tr>\n",
       "    <tr>\n",
       "      <th>3</th>\n",
       "      <td>Atlantic Southeast Airlines</td>\n",
       "      <td>161</td>\n",
       "    </tr>\n",
       "    <tr>\n",
       "      <th>4</th>\n",
       "      <td>Delta Air Lines Inc.</td>\n",
       "      <td>447</td>\n",
       "    </tr>\n",
       "    <tr>\n",
       "      <th>5</th>\n",
       "      <td>Frontier Airlines Inc.</td>\n",
       "      <td>62</td>\n",
       "    </tr>\n",
       "    <tr>\n",
       "      <th>6</th>\n",
       "      <td>Hawaiian Airlines Inc.</td>\n",
       "      <td>29</td>\n",
       "    </tr>\n",
       "    <tr>\n",
       "      <th>7</th>\n",
       "      <td>JetBlue Airways</td>\n",
       "      <td>143</td>\n",
       "    </tr>\n",
       "    <tr>\n",
       "      <th>8</th>\n",
       "      <td>Skywest Airlines Inc.</td>\n",
       "      <td>281</td>\n",
       "    </tr>\n",
       "    <tr>\n",
       "      <th>9</th>\n",
       "      <td>Southwest Airlines Co.</td>\n",
       "      <td>541</td>\n",
       "    </tr>\n",
       "    <tr>\n",
       "      <th>10</th>\n",
       "      <td>US Airways Inc.</td>\n",
       "      <td>363</td>\n",
       "    </tr>\n",
       "    <tr>\n",
       "      <th>11</th>\n",
       "      <td>United Air Lines Inc.</td>\n",
       "      <td>451</td>\n",
       "    </tr>\n",
       "  </tbody>\n",
       "</table>\n",
       "</div>"
      ],
      "text/plain": [
       "                         Airline  TailNum\n",
       "0           Alaska Airlines Inc.      120\n",
       "1         American Airlines Inc.      655\n",
       "2   American Eagle Airlines Inc.      259\n",
       "3    Atlantic Southeast Airlines      161\n",
       "4           Delta Air Lines Inc.      447\n",
       "5         Frontier Airlines Inc.       62\n",
       "6         Hawaiian Airlines Inc.       29\n",
       "7                JetBlue Airways      143\n",
       "8          Skywest Airlines Inc.      281\n",
       "9         Southwest Airlines Co.      541\n",
       "10               US Airways Inc.      363\n",
       "11         United Air Lines Inc.      451"
      ]
     },
     "execution_count": 74,
     "metadata": {},
     "output_type": "execute_result"
    }
   ],
   "source": [
    "Aircraft_df.groupby('Airline')['TailNum'].nunique().reset_index()"
   ]
  },
  {
   "cell_type": "code",
   "execution_count": 75,
   "metadata": {},
   "outputs": [],
   "source": [
    "Aircraft_df.drop_duplicates(inplace=True)"
   ]
  },
  {
   "cell_type": "code",
   "execution_count": 76,
   "metadata": {},
   "outputs": [
    {
     "data": {
      "text/plain": [
       "np.int64(0)"
      ]
     },
     "execution_count": 76,
     "metadata": {},
     "output_type": "execute_result"
    }
   ],
   "source": [
    "Aircraft_df.duplicated().sum()"
   ]
  },
  {
   "cell_type": "code",
   "execution_count": 77,
   "metadata": {},
   "outputs": [
    {
     "data": {
      "text/html": [
       "<div>\n",
       "<style scoped>\n",
       "    .dataframe tbody tr th:only-of-type {\n",
       "        vertical-align: middle;\n",
       "    }\n",
       "\n",
       "    .dataframe tbody tr th {\n",
       "        vertical-align: top;\n",
       "    }\n",
       "\n",
       "    .dataframe thead th {\n",
       "        text-align: right;\n",
       "    }\n",
       "</style>\n",
       "<table border=\"1\" class=\"dataframe\">\n",
       "  <thead>\n",
       "    <tr style=\"text-align: right;\">\n",
       "      <th></th>\n",
       "      <th>Airline</th>\n",
       "      <th>TailNum</th>\n",
       "    </tr>\n",
       "  </thead>\n",
       "  <tbody>\n",
       "    <tr>\n",
       "      <th>0</th>\n",
       "      <td>Alaska Airlines Inc.</td>\n",
       "      <td>120</td>\n",
       "    </tr>\n",
       "    <tr>\n",
       "      <th>1</th>\n",
       "      <td>American Airlines Inc.</td>\n",
       "      <td>655</td>\n",
       "    </tr>\n",
       "    <tr>\n",
       "      <th>2</th>\n",
       "      <td>American Eagle Airlines Inc.</td>\n",
       "      <td>259</td>\n",
       "    </tr>\n",
       "    <tr>\n",
       "      <th>3</th>\n",
       "      <td>Atlantic Southeast Airlines</td>\n",
       "      <td>161</td>\n",
       "    </tr>\n",
       "    <tr>\n",
       "      <th>4</th>\n",
       "      <td>Delta Air Lines Inc.</td>\n",
       "      <td>447</td>\n",
       "    </tr>\n",
       "    <tr>\n",
       "      <th>5</th>\n",
       "      <td>Frontier Airlines Inc.</td>\n",
       "      <td>62</td>\n",
       "    </tr>\n",
       "    <tr>\n",
       "      <th>6</th>\n",
       "      <td>Hawaiian Airlines Inc.</td>\n",
       "      <td>29</td>\n",
       "    </tr>\n",
       "    <tr>\n",
       "      <th>7</th>\n",
       "      <td>JetBlue Airways</td>\n",
       "      <td>143</td>\n",
       "    </tr>\n",
       "    <tr>\n",
       "      <th>8</th>\n",
       "      <td>Skywest Airlines Inc.</td>\n",
       "      <td>281</td>\n",
       "    </tr>\n",
       "    <tr>\n",
       "      <th>9</th>\n",
       "      <td>Southwest Airlines Co.</td>\n",
       "      <td>541</td>\n",
       "    </tr>\n",
       "    <tr>\n",
       "      <th>10</th>\n",
       "      <td>US Airways Inc.</td>\n",
       "      <td>363</td>\n",
       "    </tr>\n",
       "    <tr>\n",
       "      <th>11</th>\n",
       "      <td>United Air Lines Inc.</td>\n",
       "      <td>451</td>\n",
       "    </tr>\n",
       "  </tbody>\n",
       "</table>\n",
       "</div>"
      ],
      "text/plain": [
       "                         Airline  TailNum\n",
       "0           Alaska Airlines Inc.      120\n",
       "1         American Airlines Inc.      655\n",
       "2   American Eagle Airlines Inc.      259\n",
       "3    Atlantic Southeast Airlines      161\n",
       "4           Delta Air Lines Inc.      447\n",
       "5         Frontier Airlines Inc.       62\n",
       "6         Hawaiian Airlines Inc.       29\n",
       "7                JetBlue Airways      143\n",
       "8          Skywest Airlines Inc.      281\n",
       "9         Southwest Airlines Co.      541\n",
       "10               US Airways Inc.      363\n",
       "11         United Air Lines Inc.      451"
      ]
     },
     "execution_count": 77,
     "metadata": {},
     "output_type": "execute_result"
    }
   ],
   "source": [
    "Aircraft_df.groupby('Airline')['TailNum'].nunique().reset_index()"
   ]
  },
  {
   "cell_type": "code",
   "execution_count": 78,
   "metadata": {},
   "outputs": [
    {
     "data": {
      "text/html": [
       "<div>\n",
       "<style scoped>\n",
       "    .dataframe tbody tr th:only-of-type {\n",
       "        vertical-align: middle;\n",
       "    }\n",
       "\n",
       "    .dataframe tbody tr th {\n",
       "        vertical-align: top;\n",
       "    }\n",
       "\n",
       "    .dataframe thead th {\n",
       "        text-align: right;\n",
       "    }\n",
       "</style>\n",
       "<table border=\"1\" class=\"dataframe\">\n",
       "  <thead>\n",
       "    <tr style=\"text-align: right;\">\n",
       "      <th></th>\n",
       "      <th>TailNum</th>\n",
       "      <th>Airline</th>\n",
       "    </tr>\n",
       "  </thead>\n",
       "  <tbody>\n",
       "    <tr>\n",
       "      <th>0</th>\n",
       "      <td>N464WN</td>\n",
       "      <td>Southwest Airlines Co.</td>\n",
       "    </tr>\n",
       "    <tr>\n",
       "      <th>1</th>\n",
       "      <td>N763SW</td>\n",
       "      <td>Southwest Airlines Co.</td>\n",
       "    </tr>\n",
       "    <tr>\n",
       "      <th>2</th>\n",
       "      <td>N334SW</td>\n",
       "      <td>Southwest Airlines Co.</td>\n",
       "    </tr>\n",
       "    <tr>\n",
       "      <th>3</th>\n",
       "      <td>N286WN</td>\n",
       "      <td>Southwest Airlines Co.</td>\n",
       "    </tr>\n",
       "    <tr>\n",
       "      <th>4</th>\n",
       "      <td>N674AA</td>\n",
       "      <td>Southwest Airlines Co.</td>\n",
       "    </tr>\n",
       "  </tbody>\n",
       "</table>\n",
       "</div>"
      ],
      "text/plain": [
       "  TailNum                 Airline\n",
       "0  N464WN  Southwest Airlines Co.\n",
       "1  N763SW  Southwest Airlines Co.\n",
       "2  N334SW  Southwest Airlines Co.\n",
       "3  N286WN  Southwest Airlines Co.\n",
       "4  N674AA  Southwest Airlines Co."
      ]
     },
     "execution_count": 78,
     "metadata": {},
     "output_type": "execute_result"
    }
   ],
   "source": [
    "Aircraft_df.head()"
   ]
  },
  {
   "cell_type": "code",
   "execution_count": 79,
   "metadata": {},
   "outputs": [],
   "source": [
    "Aircraft_df.to_csv(r\"C:\\Users\\DELL\\Downloads\\Flight Delay Project\\Tables_CSV_Files\\Aircrafts_Data.CSV\",index=False)"
   ]
  },
  {
   "cell_type": "markdown",
   "metadata": {},
   "source": [
    "# Flights Table"
   ]
  },
  {
   "cell_type": "code",
   "execution_count": 80,
   "metadata": {},
   "outputs": [
    {
     "data": {
      "text/plain": [
       "Index(['FlightID', 'DayOfWeek', 'Date', 'ACT_DepTime', 'ACT_ArrTime',\n",
       "       'Scheduled_ArrTime', 'UniqueCarrier', 'Airline', 'FlightNum', 'TailNum',\n",
       "       'ActualElapsedTime', 'CRSElapsedTime', 'AirTime', 'ArrDelay',\n",
       "       'DepDelay', 'Origin_IATA_Code', 'Dep_Airport', 'Dest_IATA_Code',\n",
       "       'Dest_Airport', 'Distance', 'TaxiIn', 'TaxiOut', 'Cancelled',\n",
       "       'CancellationCode', 'Diverted', 'CarrierDelay', 'WeatherDelay',\n",
       "       'NASDelay', 'SecurityDelay', 'LateAircraftDelay'],\n",
       "      dtype='object')"
      ]
     },
     "execution_count": 80,
     "metadata": {},
     "output_type": "execute_result"
    }
   ],
   "source": [
    "df.columns"
   ]
  },
  {
   "cell_type": "code",
   "execution_count": 81,
   "metadata": {},
   "outputs": [],
   "source": [
    "flight_df=df[['FlightID','FlightNum','Date','DayOfWeek','UniqueCarrier','TailNum','Origin_IATA_Code','Dest_IATA_Code','Distance','Cancelled','CancellationCode','Diverted']]"
   ]
  },
  {
   "cell_type": "code",
   "execution_count": 82,
   "metadata": {},
   "outputs": [
    {
     "data": {
      "text/html": [
       "<div>\n",
       "<style scoped>\n",
       "    .dataframe tbody tr th:only-of-type {\n",
       "        vertical-align: middle;\n",
       "    }\n",
       "\n",
       "    .dataframe tbody tr th {\n",
       "        vertical-align: top;\n",
       "    }\n",
       "\n",
       "    .dataframe thead th {\n",
       "        text-align: right;\n",
       "    }\n",
       "</style>\n",
       "<table border=\"1\" class=\"dataframe\">\n",
       "  <thead>\n",
       "    <tr style=\"text-align: right;\">\n",
       "      <th></th>\n",
       "      <th>FlightID</th>\n",
       "      <th>FlightNum</th>\n",
       "      <th>Date</th>\n",
       "      <th>DayOfWeek</th>\n",
       "      <th>UniqueCarrier</th>\n",
       "      <th>TailNum</th>\n",
       "      <th>Origin_IATA_Code</th>\n",
       "      <th>Dest_IATA_Code</th>\n",
       "      <th>Distance</th>\n",
       "      <th>Cancelled</th>\n",
       "      <th>CancellationCode</th>\n",
       "      <th>Diverted</th>\n",
       "    </tr>\n",
       "  </thead>\n",
       "  <tbody>\n",
       "    <tr>\n",
       "      <th>0</th>\n",
       "      <td>0</td>\n",
       "      <td>3920</td>\n",
       "      <td>2019-01-03</td>\n",
       "      <td>4</td>\n",
       "      <td>WN</td>\n",
       "      <td>N464WN</td>\n",
       "      <td>IND</td>\n",
       "      <td>BWI</td>\n",
       "      <td>515</td>\n",
       "      <td>0</td>\n",
       "      <td>N</td>\n",
       "      <td>0</td>\n",
       "    </tr>\n",
       "    <tr>\n",
       "      <th>1</th>\n",
       "      <td>1</td>\n",
       "      <td>509</td>\n",
       "      <td>2019-01-03</td>\n",
       "      <td>4</td>\n",
       "      <td>WN</td>\n",
       "      <td>N763SW</td>\n",
       "      <td>IND</td>\n",
       "      <td>LAS</td>\n",
       "      <td>1591</td>\n",
       "      <td>0</td>\n",
       "      <td>N</td>\n",
       "      <td>0</td>\n",
       "    </tr>\n",
       "    <tr>\n",
       "      <th>2</th>\n",
       "      <td>2</td>\n",
       "      <td>1333</td>\n",
       "      <td>2019-01-03</td>\n",
       "      <td>4</td>\n",
       "      <td>WN</td>\n",
       "      <td>N334SW</td>\n",
       "      <td>IND</td>\n",
       "      <td>MCO</td>\n",
       "      <td>828</td>\n",
       "      <td>0</td>\n",
       "      <td>N</td>\n",
       "      <td>0</td>\n",
       "    </tr>\n",
       "    <tr>\n",
       "      <th>3</th>\n",
       "      <td>3</td>\n",
       "      <td>675</td>\n",
       "      <td>2019-01-03</td>\n",
       "      <td>4</td>\n",
       "      <td>WN</td>\n",
       "      <td>N286WN</td>\n",
       "      <td>IND</td>\n",
       "      <td>PHX</td>\n",
       "      <td>1489</td>\n",
       "      <td>0</td>\n",
       "      <td>N</td>\n",
       "      <td>0</td>\n",
       "    </tr>\n",
       "    <tr>\n",
       "      <th>4</th>\n",
       "      <td>4</td>\n",
       "      <td>4</td>\n",
       "      <td>2019-01-03</td>\n",
       "      <td>4</td>\n",
       "      <td>WN</td>\n",
       "      <td>N674AA</td>\n",
       "      <td>IND</td>\n",
       "      <td>TPA</td>\n",
       "      <td>838</td>\n",
       "      <td>0</td>\n",
       "      <td>N</td>\n",
       "      <td>0</td>\n",
       "    </tr>\n",
       "  </tbody>\n",
       "</table>\n",
       "</div>"
      ],
      "text/plain": [
       "   FlightID  FlightNum        Date  DayOfWeek UniqueCarrier TailNum  \\\n",
       "0         0       3920  2019-01-03          4            WN  N464WN   \n",
       "1         1        509  2019-01-03          4            WN  N763SW   \n",
       "2         2       1333  2019-01-03          4            WN  N334SW   \n",
       "3         3        675  2019-01-03          4            WN  N286WN   \n",
       "4         4          4  2019-01-03          4            WN  N674AA   \n",
       "\n",
       "  Origin_IATA_Code Dest_IATA_Code  Distance  Cancelled CancellationCode  \\\n",
       "0              IND            BWI       515          0                N   \n",
       "1              IND            LAS      1591          0                N   \n",
       "2              IND            MCO       828          0                N   \n",
       "3              IND            PHX      1489          0                N   \n",
       "4              IND            TPA       838          0                N   \n",
       "\n",
       "   Diverted  \n",
       "0         0  \n",
       "1         0  \n",
       "2         0  \n",
       "3         0  \n",
       "4         0  "
      ]
     },
     "execution_count": 82,
     "metadata": {},
     "output_type": "execute_result"
    }
   ],
   "source": [
    "flight_df.head()"
   ]
  },
  {
   "cell_type": "code",
   "execution_count": 83,
   "metadata": {},
   "outputs": [
    {
     "data": {
      "text/plain": [
       "np.int64(0)"
      ]
     },
     "execution_count": 83,
     "metadata": {},
     "output_type": "execute_result"
    }
   ],
   "source": [
    "flight_df.duplicated().sum()"
   ]
  },
  {
   "cell_type": "code",
   "execution_count": 84,
   "metadata": {},
   "outputs": [],
   "source": [
    "flight_df.to_csv(r\"C:\\Users\\DELL\\Downloads\\Flight Delay Project\\Tables_CSV_Files\\Flights_Data.CSV\",index=False)"
   ]
  },
  {
   "cell_type": "markdown",
   "metadata": {},
   "source": [
    "# FlightTimes Table"
   ]
  },
  {
   "cell_type": "code",
   "execution_count": 85,
   "metadata": {},
   "outputs": [
    {
     "data": {
      "text/plain": [
       "Index(['FlightID', 'DayOfWeek', 'Date', 'ACT_DepTime', 'ACT_ArrTime',\n",
       "       'Scheduled_ArrTime', 'UniqueCarrier', 'Airline', 'FlightNum', 'TailNum',\n",
       "       'ActualElapsedTime', 'CRSElapsedTime', 'AirTime', 'ArrDelay',\n",
       "       'DepDelay', 'Origin_IATA_Code', 'Dep_Airport', 'Dest_IATA_Code',\n",
       "       'Dest_Airport', 'Distance', 'TaxiIn', 'TaxiOut', 'Cancelled',\n",
       "       'CancellationCode', 'Diverted', 'CarrierDelay', 'WeatherDelay',\n",
       "       'NASDelay', 'SecurityDelay', 'LateAircraftDelay'],\n",
       "      dtype='object')"
      ]
     },
     "execution_count": 85,
     "metadata": {},
     "output_type": "execute_result"
    }
   ],
   "source": [
    "df.columns"
   ]
  },
  {
   "cell_type": "code",
   "execution_count": 86,
   "metadata": {},
   "outputs": [
    {
     "data": {
      "text/plain": [
       "Index(['FlightID', 'FlightNum', 'Date', 'DayOfWeek', 'UniqueCarrier',\n",
       "       'TailNum', 'Origin_IATA_Code', 'Dest_IATA_Code', 'Distance',\n",
       "       'Cancelled', 'CancellationCode', 'Diverted'],\n",
       "      dtype='object')"
      ]
     },
     "execution_count": 86,
     "metadata": {},
     "output_type": "execute_result"
    }
   ],
   "source": [
    "flight_df.columns"
   ]
  },
  {
   "cell_type": "code",
   "execution_count": 87,
   "metadata": {},
   "outputs": [],
   "source": [
    "FlightTimes_df=df[['FlightID','ACT_DepTime','ACT_ArrTime','Scheduled_ArrTime','ActualElapsedTime','CRSElapsedTime','AirTime','DepDelay','ArrDelay']]"
   ]
  },
  {
   "cell_type": "code",
   "execution_count": 88,
   "metadata": {},
   "outputs": [
    {
     "data": {
      "text/plain": [
       "Index(['FlightID', 'ACT_DepTime', 'ACT_ArrTime', 'Scheduled_ArrTime',\n",
       "       'ActualElapsedTime', 'CRSElapsedTime', 'AirTime', 'DepDelay',\n",
       "       'ArrDelay'],\n",
       "      dtype='object')"
      ]
     },
     "execution_count": 88,
     "metadata": {},
     "output_type": "execute_result"
    }
   ],
   "source": [
    "FlightTimes_df.columns"
   ]
  },
  {
   "cell_type": "code",
   "execution_count": 89,
   "metadata": {},
   "outputs": [
    {
     "data": {
      "text/plain": [
       "np.int64(0)"
      ]
     },
     "execution_count": 89,
     "metadata": {},
     "output_type": "execute_result"
    }
   ],
   "source": [
    "FlightTimes_df.duplicated().sum()"
   ]
  },
  {
   "cell_type": "code",
   "execution_count": 90,
   "metadata": {},
   "outputs": [
    {
     "data": {
      "text/html": [
       "<div>\n",
       "<style scoped>\n",
       "    .dataframe tbody tr th:only-of-type {\n",
       "        vertical-align: middle;\n",
       "    }\n",
       "\n",
       "    .dataframe tbody tr th {\n",
       "        vertical-align: top;\n",
       "    }\n",
       "\n",
       "    .dataframe thead th {\n",
       "        text-align: right;\n",
       "    }\n",
       "</style>\n",
       "<table border=\"1\" class=\"dataframe\">\n",
       "  <thead>\n",
       "    <tr style=\"text-align: right;\">\n",
       "      <th></th>\n",
       "      <th>FlightID</th>\n",
       "      <th>ACT_DepTime</th>\n",
       "      <th>ACT_ArrTime</th>\n",
       "      <th>Scheduled_ArrTime</th>\n",
       "      <th>ActualElapsedTime</th>\n",
       "      <th>CRSElapsedTime</th>\n",
       "      <th>AirTime</th>\n",
       "      <th>DepDelay</th>\n",
       "      <th>ArrDelay</th>\n",
       "    </tr>\n",
       "  </thead>\n",
       "  <tbody>\n",
       "    <tr>\n",
       "      <th>0</th>\n",
       "      <td>0</td>\n",
       "      <td>18:29:00</td>\n",
       "      <td>19:59:00</td>\n",
       "      <td>19:25:00</td>\n",
       "      <td>90</td>\n",
       "      <td>90</td>\n",
       "      <td>77</td>\n",
       "      <td>34</td>\n",
       "      <td>34</td>\n",
       "    </tr>\n",
       "    <tr>\n",
       "      <th>1</th>\n",
       "      <td>1</td>\n",
       "      <td>19:37:00</td>\n",
       "      <td>20:37:00</td>\n",
       "      <td>19:40:00</td>\n",
       "      <td>240</td>\n",
       "      <td>250</td>\n",
       "      <td>230</td>\n",
       "      <td>67</td>\n",
       "      <td>57</td>\n",
       "    </tr>\n",
       "    <tr>\n",
       "      <th>2</th>\n",
       "      <td>2</td>\n",
       "      <td>16:44:00</td>\n",
       "      <td>18:45:00</td>\n",
       "      <td>17:25:00</td>\n",
       "      <td>121</td>\n",
       "      <td>135</td>\n",
       "      <td>107</td>\n",
       "      <td>94</td>\n",
       "      <td>80</td>\n",
       "    </tr>\n",
       "    <tr>\n",
       "      <th>3</th>\n",
       "      <td>3</td>\n",
       "      <td>14:52:00</td>\n",
       "      <td>16:40:00</td>\n",
       "      <td>16:25:00</td>\n",
       "      <td>228</td>\n",
       "      <td>240</td>\n",
       "      <td>213</td>\n",
       "      <td>27</td>\n",
       "      <td>15</td>\n",
       "    </tr>\n",
       "    <tr>\n",
       "      <th>4</th>\n",
       "      <td>4</td>\n",
       "      <td>13:23:00</td>\n",
       "      <td>15:26:00</td>\n",
       "      <td>15:10:00</td>\n",
       "      <td>123</td>\n",
       "      <td>135</td>\n",
       "      <td>110</td>\n",
       "      <td>28</td>\n",
       "      <td>16</td>\n",
       "    </tr>\n",
       "  </tbody>\n",
       "</table>\n",
       "</div>"
      ],
      "text/plain": [
       "   FlightID ACT_DepTime ACT_ArrTime Scheduled_ArrTime  ActualElapsedTime  \\\n",
       "0         0    18:29:00    19:59:00          19:25:00                 90   \n",
       "1         1    19:37:00    20:37:00          19:40:00                240   \n",
       "2         2    16:44:00    18:45:00          17:25:00                121   \n",
       "3         3    14:52:00    16:40:00          16:25:00                228   \n",
       "4         4    13:23:00    15:26:00          15:10:00                123   \n",
       "\n",
       "   CRSElapsedTime  AirTime  DepDelay  ArrDelay  \n",
       "0              90       77        34        34  \n",
       "1             250      230        67        57  \n",
       "2             135      107        94        80  \n",
       "3             240      213        27        15  \n",
       "4             135      110        28        16  "
      ]
     },
     "execution_count": 90,
     "metadata": {},
     "output_type": "execute_result"
    }
   ],
   "source": [
    "FlightTimes_df.head()"
   ]
  },
  {
   "cell_type": "code",
   "execution_count": 91,
   "metadata": {},
   "outputs": [],
   "source": [
    "FlightTimes_df.to_csv(r\"C:\\Users\\DELL\\Downloads\\Flight Delay Project\\Tables_CSV_Files\\FlightTimes_Data.CSV\",index=False)"
   ]
  },
  {
   "cell_type": "markdown",
   "metadata": {},
   "source": [
    "# FlightDelays Table"
   ]
  },
  {
   "cell_type": "code",
   "execution_count": 92,
   "metadata": {},
   "outputs": [
    {
     "data": {
      "text/plain": [
       "Index(['FlightID', 'DayOfWeek', 'Date', 'ACT_DepTime', 'ACT_ArrTime',\n",
       "       'Scheduled_ArrTime', 'UniqueCarrier', 'Airline', 'FlightNum', 'TailNum',\n",
       "       'ActualElapsedTime', 'CRSElapsedTime', 'AirTime', 'ArrDelay',\n",
       "       'DepDelay', 'Origin_IATA_Code', 'Dep_Airport', 'Dest_IATA_Code',\n",
       "       'Dest_Airport', 'Distance', 'TaxiIn', 'TaxiOut', 'Cancelled',\n",
       "       'CancellationCode', 'Diverted', 'CarrierDelay', 'WeatherDelay',\n",
       "       'NASDelay', 'SecurityDelay', 'LateAircraftDelay'],\n",
       "      dtype='object')"
      ]
     },
     "execution_count": 92,
     "metadata": {},
     "output_type": "execute_result"
    }
   ],
   "source": [
    "df.columns"
   ]
  },
  {
   "cell_type": "code",
   "execution_count": 93,
   "metadata": {},
   "outputs": [],
   "source": [
    "FlightDelays_df=df[['FlightID','CarrierDelay','WeatherDelay','NASDelay','SecurityDelay','LateAircraftDelay','ArrDelay','CRSElapsedTime']]"
   ]
  },
  {
   "cell_type": "code",
   "execution_count": 94,
   "metadata": {},
   "outputs": [
    {
     "data": {
      "text/plain": [
       "Index(['FlightID', 'CarrierDelay', 'WeatherDelay', 'NASDelay', 'SecurityDelay',\n",
       "       'LateAircraftDelay', 'ArrDelay', 'CRSElapsedTime'],\n",
       "      dtype='object')"
      ]
     },
     "execution_count": 94,
     "metadata": {},
     "output_type": "execute_result"
    }
   ],
   "source": [
    "FlightDelays_df.columns"
   ]
  },
  {
   "cell_type": "code",
   "execution_count": 95,
   "metadata": {},
   "outputs": [
    {
     "data": {
      "text/plain": [
       "np.int64(0)"
      ]
     },
     "execution_count": 95,
     "metadata": {},
     "output_type": "execute_result"
    }
   ],
   "source": [
    "FlightDelays_df.duplicated().sum()"
   ]
  },
  {
   "cell_type": "code",
   "execution_count": 96,
   "metadata": {},
   "outputs": [
    {
     "data": {
      "text/html": [
       "<div>\n",
       "<style scoped>\n",
       "    .dataframe tbody tr th:only-of-type {\n",
       "        vertical-align: middle;\n",
       "    }\n",
       "\n",
       "    .dataframe tbody tr th {\n",
       "        vertical-align: top;\n",
       "    }\n",
       "\n",
       "    .dataframe thead th {\n",
       "        text-align: right;\n",
       "    }\n",
       "</style>\n",
       "<table border=\"1\" class=\"dataframe\">\n",
       "  <thead>\n",
       "    <tr style=\"text-align: right;\">\n",
       "      <th></th>\n",
       "      <th>FlightID</th>\n",
       "      <th>CarrierDelay</th>\n",
       "      <th>WeatherDelay</th>\n",
       "      <th>NASDelay</th>\n",
       "      <th>SecurityDelay</th>\n",
       "      <th>LateAircraftDelay</th>\n",
       "      <th>ArrDelay</th>\n",
       "      <th>CRSElapsedTime</th>\n",
       "    </tr>\n",
       "  </thead>\n",
       "  <tbody>\n",
       "    <tr>\n",
       "      <th>0</th>\n",
       "      <td>0</td>\n",
       "      <td>2</td>\n",
       "      <td>0</td>\n",
       "      <td>0</td>\n",
       "      <td>0</td>\n",
       "      <td>32</td>\n",
       "      <td>34</td>\n",
       "      <td>90</td>\n",
       "    </tr>\n",
       "    <tr>\n",
       "      <th>1</th>\n",
       "      <td>1</td>\n",
       "      <td>10</td>\n",
       "      <td>0</td>\n",
       "      <td>0</td>\n",
       "      <td>0</td>\n",
       "      <td>47</td>\n",
       "      <td>57</td>\n",
       "      <td>250</td>\n",
       "    </tr>\n",
       "    <tr>\n",
       "      <th>2</th>\n",
       "      <td>2</td>\n",
       "      <td>8</td>\n",
       "      <td>0</td>\n",
       "      <td>0</td>\n",
       "      <td>0</td>\n",
       "      <td>72</td>\n",
       "      <td>80</td>\n",
       "      <td>135</td>\n",
       "    </tr>\n",
       "    <tr>\n",
       "      <th>3</th>\n",
       "      <td>3</td>\n",
       "      <td>3</td>\n",
       "      <td>0</td>\n",
       "      <td>0</td>\n",
       "      <td>0</td>\n",
       "      <td>12</td>\n",
       "      <td>15</td>\n",
       "      <td>240</td>\n",
       "    </tr>\n",
       "    <tr>\n",
       "      <th>4</th>\n",
       "      <td>4</td>\n",
       "      <td>0</td>\n",
       "      <td>0</td>\n",
       "      <td>0</td>\n",
       "      <td>0</td>\n",
       "      <td>16</td>\n",
       "      <td>16</td>\n",
       "      <td>135</td>\n",
       "    </tr>\n",
       "  </tbody>\n",
       "</table>\n",
       "</div>"
      ],
      "text/plain": [
       "   FlightID  CarrierDelay  WeatherDelay  NASDelay  SecurityDelay  \\\n",
       "0         0             2             0         0              0   \n",
       "1         1            10             0         0              0   \n",
       "2         2             8             0         0              0   \n",
       "3         3             3             0         0              0   \n",
       "4         4             0             0         0              0   \n",
       "\n",
       "   LateAircraftDelay  ArrDelay  CRSElapsedTime  \n",
       "0                 32        34              90  \n",
       "1                 47        57             250  \n",
       "2                 72        80             135  \n",
       "3                 12        15             240  \n",
       "4                 16        16             135  "
      ]
     },
     "execution_count": 96,
     "metadata": {},
     "output_type": "execute_result"
    }
   ],
   "source": [
    "FlightDelays_df.head()"
   ]
  },
  {
   "cell_type": "code",
   "execution_count": 97,
   "metadata": {},
   "outputs": [
    {
     "name": "stdout",
     "output_type": "stream",
     "text": [
      "<class 'pandas.core.frame.DataFrame'>\n",
      "RangeIndex: 484551 entries, 0 to 484550\n",
      "Data columns (total 8 columns):\n",
      " #   Column             Non-Null Count   Dtype\n",
      "---  ------             --------------   -----\n",
      " 0   FlightID           484551 non-null  int64\n",
      " 1   CarrierDelay       484551 non-null  int64\n",
      " 2   WeatherDelay       484551 non-null  int64\n",
      " 3   NASDelay           484551 non-null  int64\n",
      " 4   SecurityDelay      484551 non-null  int64\n",
      " 5   LateAircraftDelay  484551 non-null  int64\n",
      " 6   ArrDelay           484551 non-null  int64\n",
      " 7   CRSElapsedTime     484551 non-null  int64\n",
      "dtypes: int64(8)\n",
      "memory usage: 29.6 MB\n"
     ]
    }
   ],
   "source": [
    "FlightDelays_df.info()"
   ]
  },
  {
   "cell_type": "code",
   "execution_count": 98,
   "metadata": {},
   "outputs": [],
   "source": [
    "FlightDelays_df.to_csv(r\"C:\\Users\\DELL\\Downloads\\Flight Delay Project\\Tables_CSV_Files\\FlightDelays_Data.CSV\",index=False)"
   ]
  },
  {
   "cell_type": "markdown",
   "metadata": {},
   "source": [
    "# TaxiTimes Table"
   ]
  },
  {
   "cell_type": "code",
   "execution_count": 99,
   "metadata": {},
   "outputs": [
    {
     "data": {
      "text/plain": [
       "Index(['FlightID', 'DayOfWeek', 'Date', 'ACT_DepTime', 'ACT_ArrTime',\n",
       "       'Scheduled_ArrTime', 'UniqueCarrier', 'Airline', 'FlightNum', 'TailNum',\n",
       "       'ActualElapsedTime', 'CRSElapsedTime', 'AirTime', 'ArrDelay',\n",
       "       'DepDelay', 'Origin_IATA_Code', 'Dep_Airport', 'Dest_IATA_Code',\n",
       "       'Dest_Airport', 'Distance', 'TaxiIn', 'TaxiOut', 'Cancelled',\n",
       "       'CancellationCode', 'Diverted', 'CarrierDelay', 'WeatherDelay',\n",
       "       'NASDelay', 'SecurityDelay', 'LateAircraftDelay'],\n",
       "      dtype='object')"
      ]
     },
     "execution_count": 99,
     "metadata": {},
     "output_type": "execute_result"
    }
   ],
   "source": [
    "df.columns"
   ]
  },
  {
   "cell_type": "code",
   "execution_count": 100,
   "metadata": {},
   "outputs": [],
   "source": [
    "TaxiTimes_df=df[['FlightID','TaxiIn','TaxiOut']]"
   ]
  },
  {
   "cell_type": "code",
   "execution_count": 101,
   "metadata": {},
   "outputs": [
    {
     "data": {
      "text/plain": [
       "Index(['FlightID', 'TaxiIn', 'TaxiOut'], dtype='object')"
      ]
     },
     "execution_count": 101,
     "metadata": {},
     "output_type": "execute_result"
    }
   ],
   "source": [
    "TaxiTimes_df.columns"
   ]
  },
  {
   "cell_type": "code",
   "execution_count": 102,
   "metadata": {},
   "outputs": [
    {
     "data": {
      "text/html": [
       "<div>\n",
       "<style scoped>\n",
       "    .dataframe tbody tr th:only-of-type {\n",
       "        vertical-align: middle;\n",
       "    }\n",
       "\n",
       "    .dataframe tbody tr th {\n",
       "        vertical-align: top;\n",
       "    }\n",
       "\n",
       "    .dataframe thead th {\n",
       "        text-align: right;\n",
       "    }\n",
       "</style>\n",
       "<table border=\"1\" class=\"dataframe\">\n",
       "  <thead>\n",
       "    <tr style=\"text-align: right;\">\n",
       "      <th></th>\n",
       "      <th>FlightID</th>\n",
       "      <th>TaxiIn</th>\n",
       "      <th>TaxiOut</th>\n",
       "    </tr>\n",
       "  </thead>\n",
       "  <tbody>\n",
       "    <tr>\n",
       "      <th>0</th>\n",
       "      <td>0</td>\n",
       "      <td>3</td>\n",
       "      <td>10</td>\n",
       "    </tr>\n",
       "    <tr>\n",
       "      <th>1</th>\n",
       "      <td>1</td>\n",
       "      <td>3</td>\n",
       "      <td>7</td>\n",
       "    </tr>\n",
       "    <tr>\n",
       "      <th>2</th>\n",
       "      <td>2</td>\n",
       "      <td>6</td>\n",
       "      <td>8</td>\n",
       "    </tr>\n",
       "    <tr>\n",
       "      <th>3</th>\n",
       "      <td>3</td>\n",
       "      <td>7</td>\n",
       "      <td>8</td>\n",
       "    </tr>\n",
       "    <tr>\n",
       "      <th>4</th>\n",
       "      <td>4</td>\n",
       "      <td>4</td>\n",
       "      <td>9</td>\n",
       "    </tr>\n",
       "  </tbody>\n",
       "</table>\n",
       "</div>"
      ],
      "text/plain": [
       "   FlightID  TaxiIn  TaxiOut\n",
       "0         0       3       10\n",
       "1         1       3        7\n",
       "2         2       6        8\n",
       "3         3       7        8\n",
       "4         4       4        9"
      ]
     },
     "execution_count": 102,
     "metadata": {},
     "output_type": "execute_result"
    }
   ],
   "source": [
    "TaxiTimes_df.head()"
   ]
  },
  {
   "cell_type": "code",
   "execution_count": 103,
   "metadata": {},
   "outputs": [
    {
     "data": {
      "text/plain": [
       "np.int64(0)"
      ]
     },
     "execution_count": 103,
     "metadata": {},
     "output_type": "execute_result"
    }
   ],
   "source": [
    "TaxiTimes_df.duplicated().sum()"
   ]
  },
  {
   "cell_type": "code",
   "execution_count": 104,
   "metadata": {},
   "outputs": [
    {
     "name": "stdout",
     "output_type": "stream",
     "text": [
      "<class 'pandas.core.frame.DataFrame'>\n",
      "RangeIndex: 484551 entries, 0 to 484550\n",
      "Data columns (total 3 columns):\n",
      " #   Column    Non-Null Count   Dtype\n",
      "---  ------    --------------   -----\n",
      " 0   FlightID  484551 non-null  int64\n",
      " 1   TaxiIn    484551 non-null  int64\n",
      " 2   TaxiOut   484551 non-null  int64\n",
      "dtypes: int64(3)\n",
      "memory usage: 11.1 MB\n"
     ]
    }
   ],
   "source": [
    "TaxiTimes_df.info()"
   ]
  },
  {
   "cell_type": "code",
   "execution_count": 105,
   "metadata": {},
   "outputs": [],
   "source": [
    "TaxiTimes_df.to_csv(r\"C:\\Users\\DELL\\Downloads\\Flight Delay Project\\Tables_CSV_Files\\TaxiTimes_Data.CSV\",index=False)"
   ]
  },
  {
   "cell_type": "code",
   "execution_count": 106,
   "metadata": {},
   "outputs": [
    {
     "data": {
      "text/html": [
       "<div>\n",
       "<style scoped>\n",
       "    .dataframe tbody tr th:only-of-type {\n",
       "        vertical-align: middle;\n",
       "    }\n",
       "\n",
       "    .dataframe tbody tr th {\n",
       "        vertical-align: top;\n",
       "    }\n",
       "\n",
       "    .dataframe thead th {\n",
       "        text-align: right;\n",
       "    }\n",
       "</style>\n",
       "<table border=\"1\" class=\"dataframe\">\n",
       "  <thead>\n",
       "    <tr style=\"text-align: right;\">\n",
       "      <th></th>\n",
       "      <th>FlightID</th>\n",
       "      <th>DayOfWeek</th>\n",
       "      <th>Date</th>\n",
       "      <th>ACT_DepTime</th>\n",
       "      <th>ACT_ArrTime</th>\n",
       "      <th>Scheduled_ArrTime</th>\n",
       "      <th>UniqueCarrier</th>\n",
       "      <th>Airline</th>\n",
       "      <th>FlightNum</th>\n",
       "      <th>TailNum</th>\n",
       "      <th>...</th>\n",
       "      <th>TaxiIn</th>\n",
       "      <th>TaxiOut</th>\n",
       "      <th>Cancelled</th>\n",
       "      <th>CancellationCode</th>\n",
       "      <th>Diverted</th>\n",
       "      <th>CarrierDelay</th>\n",
       "      <th>WeatherDelay</th>\n",
       "      <th>NASDelay</th>\n",
       "      <th>SecurityDelay</th>\n",
       "      <th>LateAircraftDelay</th>\n",
       "    </tr>\n",
       "  </thead>\n",
       "  <tbody>\n",
       "    <tr>\n",
       "      <th>1</th>\n",
       "      <td>1</td>\n",
       "      <td>4</td>\n",
       "      <td>2019-01-03</td>\n",
       "      <td>19:37:00</td>\n",
       "      <td>20:37:00</td>\n",
       "      <td>19:40:00</td>\n",
       "      <td>WN</td>\n",
       "      <td>Southwest Airlines Co.</td>\n",
       "      <td>509</td>\n",
       "      <td>N763SW</td>\n",
       "      <td>...</td>\n",
       "      <td>3</td>\n",
       "      <td>7</td>\n",
       "      <td>0</td>\n",
       "      <td>N</td>\n",
       "      <td>0</td>\n",
       "      <td>10</td>\n",
       "      <td>0</td>\n",
       "      <td>0</td>\n",
       "      <td>0</td>\n",
       "      <td>47</td>\n",
       "    </tr>\n",
       "    <tr>\n",
       "      <th>8</th>\n",
       "      <td>8</td>\n",
       "      <td>4</td>\n",
       "      <td>2019-01-03</td>\n",
       "      <td>21:07:00</td>\n",
       "      <td>23:34:00</td>\n",
       "      <td>22:30:00</td>\n",
       "      <td>WN</td>\n",
       "      <td>Southwest Airlines Co.</td>\n",
       "      <td>362</td>\n",
       "      <td>N798SW</td>\n",
       "      <td>...</td>\n",
       "      <td>6</td>\n",
       "      <td>7</td>\n",
       "      <td>0</td>\n",
       "      <td>N</td>\n",
       "      <td>0</td>\n",
       "      <td>5</td>\n",
       "      <td>0</td>\n",
       "      <td>0</td>\n",
       "      <td>0</td>\n",
       "      <td>59</td>\n",
       "    </tr>\n",
       "    <tr>\n",
       "      <th>12</th>\n",
       "      <td>12</td>\n",
       "      <td>4</td>\n",
       "      <td>2019-01-03</td>\n",
       "      <td>22:45:00</td>\n",
       "      <td>23:54:00</td>\n",
       "      <td>18:50:00</td>\n",
       "      <td>WN</td>\n",
       "      <td>Southwest Airlines Co.</td>\n",
       "      <td>186</td>\n",
       "      <td>N792SW</td>\n",
       "      <td>...</td>\n",
       "      <td>3</td>\n",
       "      <td>7</td>\n",
       "      <td>0</td>\n",
       "      <td>N</td>\n",
       "      <td>0</td>\n",
       "      <td>282</td>\n",
       "      <td>0</td>\n",
       "      <td>0</td>\n",
       "      <td>0</td>\n",
       "      <td>22</td>\n",
       "    </tr>\n",
       "    <tr>\n",
       "      <th>13</th>\n",
       "      <td>13</td>\n",
       "      <td>4</td>\n",
       "      <td>2019-01-03</td>\n",
       "      <td>20:25:00</td>\n",
       "      <td>21:35:00</td>\n",
       "      <td>21:00:00</td>\n",
       "      <td>WN</td>\n",
       "      <td>Southwest Airlines Co.</td>\n",
       "      <td>3154</td>\n",
       "      <td>N252WN</td>\n",
       "      <td>...</td>\n",
       "      <td>3</td>\n",
       "      <td>7</td>\n",
       "      <td>0</td>\n",
       "      <td>N</td>\n",
       "      <td>0</td>\n",
       "      <td>26</td>\n",
       "      <td>0</td>\n",
       "      <td>0</td>\n",
       "      <td>0</td>\n",
       "      <td>9</td>\n",
       "    </tr>\n",
       "    <tr>\n",
       "      <th>14</th>\n",
       "      <td>14</td>\n",
       "      <td>4</td>\n",
       "      <td>2019-01-03</td>\n",
       "      <td>10:38:00</td>\n",
       "      <td>13:14:00</td>\n",
       "      <td>12:25:00</td>\n",
       "      <td>WN</td>\n",
       "      <td>Southwest Airlines Co.</td>\n",
       "      <td>1035</td>\n",
       "      <td>N346SW</td>\n",
       "      <td>...</td>\n",
       "      <td>8</td>\n",
       "      <td>7</td>\n",
       "      <td>0</td>\n",
       "      <td>N</td>\n",
       "      <td>0</td>\n",
       "      <td>7</td>\n",
       "      <td>0</td>\n",
       "      <td>0</td>\n",
       "      <td>0</td>\n",
       "      <td>42</td>\n",
       "    </tr>\n",
       "    <tr>\n",
       "      <th>...</th>\n",
       "      <td>...</td>\n",
       "      <td>...</td>\n",
       "      <td>...</td>\n",
       "      <td>...</td>\n",
       "      <td>...</td>\n",
       "      <td>...</td>\n",
       "      <td>...</td>\n",
       "      <td>...</td>\n",
       "      <td>...</td>\n",
       "      <td>...</td>\n",
       "      <td>...</td>\n",
       "      <td>...</td>\n",
       "      <td>...</td>\n",
       "      <td>...</td>\n",
       "      <td>...</td>\n",
       "      <td>...</td>\n",
       "      <td>...</td>\n",
       "      <td>...</td>\n",
       "      <td>...</td>\n",
       "      <td>...</td>\n",
       "      <td>...</td>\n",
       "    </tr>\n",
       "    <tr>\n",
       "      <th>483155</th>\n",
       "      <td>483155</td>\n",
       "      <td>6</td>\n",
       "      <td>2019-06-07</td>\n",
       "      <td>15:24:00</td>\n",
       "      <td>16:53:00</td>\n",
       "      <td>16:15:00</td>\n",
       "      <td>AA</td>\n",
       "      <td>American Airlines Inc.</td>\n",
       "      <td>1316</td>\n",
       "      <td>N513AA</td>\n",
       "      <td>...</td>\n",
       "      <td>7</td>\n",
       "      <td>7</td>\n",
       "      <td>0</td>\n",
       "      <td>N</td>\n",
       "      <td>0</td>\n",
       "      <td>38</td>\n",
       "      <td>0</td>\n",
       "      <td>0</td>\n",
       "      <td>0</td>\n",
       "      <td>0</td>\n",
       "    </tr>\n",
       "    <tr>\n",
       "      <th>483156</th>\n",
       "      <td>483156</td>\n",
       "      <td>6</td>\n",
       "      <td>2019-06-14</td>\n",
       "      <td>15:55:00</td>\n",
       "      <td>17:26:00</td>\n",
       "      <td>16:15:00</td>\n",
       "      <td>AA</td>\n",
       "      <td>American Airlines Inc.</td>\n",
       "      <td>1316</td>\n",
       "      <td>N200AA</td>\n",
       "      <td>...</td>\n",
       "      <td>12</td>\n",
       "      <td>7</td>\n",
       "      <td>0</td>\n",
       "      <td>N</td>\n",
       "      <td>0</td>\n",
       "      <td>0</td>\n",
       "      <td>0</td>\n",
       "      <td>0</td>\n",
       "      <td>0</td>\n",
       "      <td>71</td>\n",
       "    </tr>\n",
       "    <tr>\n",
       "      <th>484345</th>\n",
       "      <td>484345</td>\n",
       "      <td>1</td>\n",
       "      <td>2019-06-30</td>\n",
       "      <td>17:55:00</td>\n",
       "      <td>19:34:00</td>\n",
       "      <td>10:00:00</td>\n",
       "      <td>AA</td>\n",
       "      <td>American Airlines Inc.</td>\n",
       "      <td>1461</td>\n",
       "      <td>N540AA</td>\n",
       "      <td>...</td>\n",
       "      <td>9</td>\n",
       "      <td>7</td>\n",
       "      <td>0</td>\n",
       "      <td>N</td>\n",
       "      <td>0</td>\n",
       "      <td>574</td>\n",
       "      <td>0</td>\n",
       "      <td>0</td>\n",
       "      <td>0</td>\n",
       "      <td>0</td>\n",
       "    </tr>\n",
       "    <tr>\n",
       "      <th>484346</th>\n",
       "      <td>484346</td>\n",
       "      <td>4</td>\n",
       "      <td>2019-06-05</td>\n",
       "      <td>08:52:00</td>\n",
       "      <td>10:14:00</td>\n",
       "      <td>09:55:00</td>\n",
       "      <td>AA</td>\n",
       "      <td>American Airlines Inc.</td>\n",
       "      <td>1463</td>\n",
       "      <td>N556AA</td>\n",
       "      <td>...</td>\n",
       "      <td>7</td>\n",
       "      <td>7</td>\n",
       "      <td>0</td>\n",
       "      <td>N</td>\n",
       "      <td>0</td>\n",
       "      <td>19</td>\n",
       "      <td>0</td>\n",
       "      <td>0</td>\n",
       "      <td>0</td>\n",
       "      <td>0</td>\n",
       "    </tr>\n",
       "    <tr>\n",
       "      <th>484522</th>\n",
       "      <td>484522</td>\n",
       "      <td>2</td>\n",
       "      <td>2019-06-24</td>\n",
       "      <td>07:17:00</td>\n",
       "      <td>08:25:00</td>\n",
       "      <td>08:10:00</td>\n",
       "      <td>AA</td>\n",
       "      <td>American Airlines Inc.</td>\n",
       "      <td>1491</td>\n",
       "      <td>N497AA</td>\n",
       "      <td>...</td>\n",
       "      <td>22</td>\n",
       "      <td>7</td>\n",
       "      <td>0</td>\n",
       "      <td>N</td>\n",
       "      <td>0</td>\n",
       "      <td>7</td>\n",
       "      <td>0</td>\n",
       "      <td>8</td>\n",
       "      <td>0</td>\n",
       "      <td>0</td>\n",
       "    </tr>\n",
       "  </tbody>\n",
       "</table>\n",
       "<p>18876 rows × 30 columns</p>\n",
       "</div>"
      ],
      "text/plain": [
       "        FlightID  DayOfWeek        Date ACT_DepTime ACT_ArrTime  \\\n",
       "1              1          4  2019-01-03    19:37:00    20:37:00   \n",
       "8              8          4  2019-01-03    21:07:00    23:34:00   \n",
       "12            12          4  2019-01-03    22:45:00    23:54:00   \n",
       "13            13          4  2019-01-03    20:25:00    21:35:00   \n",
       "14            14          4  2019-01-03    10:38:00    13:14:00   \n",
       "...          ...        ...         ...         ...         ...   \n",
       "483155    483155          6  2019-06-07    15:24:00    16:53:00   \n",
       "483156    483156          6  2019-06-14    15:55:00    17:26:00   \n",
       "484345    484345          1  2019-06-30    17:55:00    19:34:00   \n",
       "484346    484346          4  2019-06-05    08:52:00    10:14:00   \n",
       "484522    484522          2  2019-06-24    07:17:00    08:25:00   \n",
       "\n",
       "       Scheduled_ArrTime UniqueCarrier                 Airline  FlightNum  \\\n",
       "1               19:40:00            WN  Southwest Airlines Co.        509   \n",
       "8               22:30:00            WN  Southwest Airlines Co.        362   \n",
       "12              18:50:00            WN  Southwest Airlines Co.        186   \n",
       "13              21:00:00            WN  Southwest Airlines Co.       3154   \n",
       "14              12:25:00            WN  Southwest Airlines Co.       1035   \n",
       "...                  ...           ...                     ...        ...   \n",
       "483155          16:15:00            AA  American Airlines Inc.       1316   \n",
       "483156          16:15:00            AA  American Airlines Inc.       1316   \n",
       "484345          10:00:00            AA  American Airlines Inc.       1461   \n",
       "484346          09:55:00            AA  American Airlines Inc.       1463   \n",
       "484522          08:10:00            AA  American Airlines Inc.       1491   \n",
       "\n",
       "       TailNum  ...  TaxiIn  TaxiOut  Cancelled  CancellationCode  Diverted  \\\n",
       "1       N763SW  ...       3        7          0                 N         0   \n",
       "8       N798SW  ...       6        7          0                 N         0   \n",
       "12      N792SW  ...       3        7          0                 N         0   \n",
       "13      N252WN  ...       3        7          0                 N         0   \n",
       "14      N346SW  ...       8        7          0                 N         0   \n",
       "...        ...  ...     ...      ...        ...               ...       ...   \n",
       "483155  N513AA  ...       7        7          0                 N         0   \n",
       "483156  N200AA  ...      12        7          0                 N         0   \n",
       "484345  N540AA  ...       9        7          0                 N         0   \n",
       "484346  N556AA  ...       7        7          0                 N         0   \n",
       "484522  N497AA  ...      22        7          0                 N         0   \n",
       "\n",
       "       CarrierDelay WeatherDelay NASDelay SecurityDelay  LateAircraftDelay  \n",
       "1                10            0        0             0                 47  \n",
       "8                 5            0        0             0                 59  \n",
       "12              282            0        0             0                 22  \n",
       "13               26            0        0             0                  9  \n",
       "14                7            0        0             0                 42  \n",
       "...             ...          ...      ...           ...                ...  \n",
       "483155           38            0        0             0                  0  \n",
       "483156            0            0        0             0                 71  \n",
       "484345          574            0        0             0                  0  \n",
       "484346           19            0        0             0                  0  \n",
       "484522            7            0        8             0                  0  \n",
       "\n",
       "[18876 rows x 30 columns]"
      ]
     },
     "execution_count": 106,
     "metadata": {},
     "output_type": "execute_result"
    }
   ],
   "source": [
    "df[df['TaxiOut']==7]"
   ]
  }
 ],
 "metadata": {
  "kernelspec": {
   "display_name": "Python 3",
   "language": "python",
   "name": "python3"
  },
  "language_info": {
   "codemirror_mode": {
    "name": "ipython",
    "version": 3
   },
   "file_extension": ".py",
   "mimetype": "text/x-python",
   "name": "python",
   "nbconvert_exporter": "python",
   "pygments_lexer": "ipython3",
   "version": "3.11.9"
  }
 },
 "nbformat": 4,
 "nbformat_minor": 2
}
